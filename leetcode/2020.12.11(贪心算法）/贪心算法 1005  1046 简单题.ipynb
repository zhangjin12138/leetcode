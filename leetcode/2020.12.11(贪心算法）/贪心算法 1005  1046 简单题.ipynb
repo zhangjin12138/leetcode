{
 "cells": [
  {
   "cell_type": "markdown",
   "metadata": {},
   "source": [
    "# 1005. K 次取反后最大化的数组和\n",
    "给定一个整数数组 A，我们只能用以下方法修改该数组：我们选择某个索引 i 并将 A[i] 替换为 -A[i]，然后总共重复这个过程 K 次。（我们可以多次选择同一个索引 i。）<br>\n",
    "<br>\n",
    "以这种方式修改数组后，返回数组可能的最大和。<br>\n",
    "<br>\n",
    " <br>\n",
    "<br>\n",
    "示例 1：<br>\n",
    "<br>\n",
    "输入：A = [4,2,3], K = 1<br>\n",
    "输出：5<br>\n",
    "解释：选择索引 (1,) ，然后 A 变为 [4,-2,3]。<br>\n",
    "示例 2：<br>\n",
    "<br>\n",
    "输入：A = [3,-1,0,2], K = 3<br>\n",
    "输出：6<br>\n",
    "解释：选择索引 (1, 2, 2) ，然后 A 变为 [3,1,0,2]。<br>\n",
    "示例 3：<br>\n",
    "<br>\n",
    "输入：A = [2,-3,-1,5,-4], K = 2<br>\n",
    "输出：13<br>\n",
    "解释：选择索引 (1, 4) ，然后 A 变为 [2,3,-1,5,4]。<br>"
   ]
  },
  {
   "cell_type": "code",
   "execution_count": null,
   "metadata": {},
   "outputs": [],
   "source": [
    "class Solution:\n",
    "    def largestSumAfterKNegations(self, A: List[int], K: int) -> int:\n",
    "        A = sorted(A)\n",
    "        while K:\n",
    "            A[0] = -A[0]\n",
    "            A = sorted(A)\n",
    "            K -= 1\n",
    "        return sum(A)\n"
   ]
  },
  {
   "cell_type": "markdown",
   "metadata": {},
   "source": [
    "# 1046. 最后一块石头的重量\n",
    "有一堆石头，每块石头的重量都是正整数。<br>\n",
    "<br>\n",
    "每一回合，从中选出两块 最重的 石头，然后将它们一起粉碎。假设石头的重量分别为 x 和 y，且 x <= y。那么粉碎的可能结果如下：<br>\n",
    "<br>\n",
    "如果 x == y，那么两块石头都会被完全粉碎；<br>\n",
    "如果 x != y，那么重量为 x 的石头将会完全粉碎，而重量为 y 的石头新重量为 y-x。<br>\n",
    "最后，最多只会剩下一块石头。返回此石头的重量。如果没有石头剩下，就返回 0。<br>\n",
    "<br>\n",
    " <br>\n",
    "<br>\n",
    "示例：<br>\n",
    "<br>\n",
    "输入：[2,7,4,1,8,1]<br>\n",
    "输出：1<br>\n",
    "解释：<br>\n",
    "先选出 7 和 8，得到 1，所以数组转换为 [2,4,1,1,1]，<br>\n",
    "再选出 2 和 4，得到 2，所以数组转换为 [2,1,1,1]，<br>\n",
    "接着是 2 和 1，得到 1，所以数组转换为 [1,1,1]，<br>\n",
    "最后选出 1 和 1，得到 0，最终数组转换为 [1]，这就是最后剩下那块石头的重量。<br>"
   ]
  },
  {
   "cell_type": "code",
   "execution_count": null,
   "metadata": {},
   "outputs": [],
   "source": [
    "class Solution:\n",
    "    def lastStoneWeight(self, stones: List[int]) -> int:\n",
    "        while len(stones) > 2:\n",
    "            stones = sorted(stones)\n",
    "            print(stones)\n",
    "            a = stones[-1]\n",
    "            b = stones[-2]\n",
    "           \n",
    "            print(a, b)\n",
    "            stones.remove(a)\n",
    "            stones.remove(b)\n",
    "            if (a > b):\n",
    "                stones.append(a-b)\n",
    "\n",
    "        stones = sorted(stones)\n",
    "        if len(stones)== 1:\n",
    "            return stones[0]\n",
    "        else:\n",
    "            return stones[1] - stones[0]\n"
   ]
  }
 ],
 "metadata": {
  "kernelspec": {
   "display_name": "Python 3",
   "language": "python",
   "name": "python3"
  },
  "language_info": {
   "codemirror_mode": {
    "name": "ipython",
    "version": 3
   },
   "file_extension": ".py",
   "mimetype": "text/x-python",
   "name": "python",
   "nbconvert_exporter": "python",
   "pygments_lexer": "ipython3",
   "version": "3.7.0"
  }
 },
 "nbformat": 4,
 "nbformat_minor": 2
}
