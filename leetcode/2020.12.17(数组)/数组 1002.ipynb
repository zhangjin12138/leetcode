{
 "cells": [
  {
   "cell_type": "markdown",
   "metadata": {},
   "source": [
    "# 1002. 查找常用字符\n",
    "<br>给定仅有小写字母组成的字符串数组 A，返回列表中的每个字符串中都显示的全部字符（包括重复字符）组成的列表。例如，如果一个字符在每个字符串中出现 3 次，但不是 4 次，则需要在最终答案中包含该字符 3 <br>次。\n",
    "<br>\n",
    "<br>你可以按任意顺序返回答案。\n",
    "<br>\n",
    "<br> \n",
    "<br>\n",
    "<br>示例 1：\n",
    "<br>\n",
    "<br>输入：[\"bella\",\"label\",\"roller\"]\n",
    "<br>输出：[\"e\",\"l\",\"l\"]\n",
    "<br>示例 2：\n",
    "<br>\n",
    "<br>输入：[\"cool\",\"lock\",\"cook\"]\n",
    "<br>输出：[\"c\",\"o\"]"
   ]
  },
  {
   "cell_type": "code",
   "execution_count": null,
   "metadata": {},
   "outputs": [],
   "source": [
    "class Solution:\n",
    "    def commonChars(self, A: List[str]) -> List[str]:\n",
    "        tmp = A[0]\n",
    "        for i in range(1, len(A)):\n",
    "            tmp = set(tmp) & set(A[i])\n",
    "\n",
    "\n",
    "        tmp = ''.join(tmp)\n",
    "        s = ''\n",
    "        for i in tmp: # e l \n",
    "            min_i = 99999\n",
    "            for j in A:\n",
    "                count = 0\n",
    "                for k in j:\n",
    "                    if k == i:\n",
    "                        count += 1\n",
    "                if count < min_i:\n",
    "                    min_i = count\n",
    "            s  = s + i*min_i\n",
    "        return list(s)"
   ]
  }
 ],
 "metadata": {
  "kernelspec": {
   "display_name": "Python 3",
   "language": "python",
   "name": "python3"
  },
  "language_info": {
   "codemirror_mode": {
    "name": "ipython",
    "version": 3
   },
   "file_extension": ".py",
   "mimetype": "text/x-python",
   "name": "python",
   "nbconvert_exporter": "python",
   "pygments_lexer": "ipython3",
   "version": "3.8.5"
  }
 },
 "nbformat": 4,
 "nbformat_minor": 4
}
