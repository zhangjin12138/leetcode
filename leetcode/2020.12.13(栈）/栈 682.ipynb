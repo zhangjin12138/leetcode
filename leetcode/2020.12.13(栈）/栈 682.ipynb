{
 "cells": [
  {
   "cell_type": "markdown",
   "metadata": {},
   "source": [
    "# <br>682. 棒球比赛\n",
    "<br>你现在是一场采特殊赛制棒球比赛的记录员。这场比赛由若干回合组成，过去几回合的得分可能会影响以后几回合的得分。\n",
    "<br>\n",
    "<br>比赛开始时，记录是空白的。你会得到一个记录操作的字符串列表 ops，其中 ops[i] 是你需要记录的第 i 项操作，ops 遵循下述规则：\n",
    "<br>\n",
    "<br>整数 x - 表示本回合新获得分数 x\n",
    "<br>\"+\" - 表示本回合新获得的得分是前两次得分的总和。题目数据保证记录此操作时前面总是存在两个有效的分数。\n",
    "<br>\"D\" - 表示本回合新获得的得分是前一次得分的两倍。题目数据保证记录此操作时前面总是存在一个有效的分数。\n",
    "<br>\"C\" - 表示前一次得分无效，将其从记录中移除。题目数据保证记录此操作时前面总是存在一个有效的分数。\n",
    "<br>请你返回记录中所有得分的总和。\n",
    "<br>\n",
    "<br> \n",
    "<br>\n",
    "<br>示例 1：\n",
    "<br>\n",
    "<br>输入：ops = [\"5\",\"2\",\"C\",\"D\",\"+\"]\n",
    "<br>输出：30\n",
    "<br>解释：\n",
    "<br>\"5\" - 记录加 5 ，记录现在是 [5]\n",
    "<br>\"2\" - 记录加 2 ，记录现在是 [5, 2]\n",
    "<br>\"C\" - 使前一次得分的记录无效并将其移除，记录现在是 [5].\n",
    "<br>\"D\" - 记录加 2 * 5 = 10 ，记录现在是 [5, 10].\n",
    "<br>\"+\" - 记录加 5 + 10 = 15 ，记录现在是 [5, 10, 15].\n",
    "<br>所有得分的总和 5 + 10 + 15 = 30\n",
    "<br>示例 2：\n",
    "<br>\n",
    "<br>输入：ops = [\"5\",\"-2\",\"4\",\"C\",\"D\",\"9\",\"+\",\"+\"]\n",
    "<br>输出：27\n",
    "<br>解释：\n",
    "<br>\"5\" - 记录加 5 ，记录现在是 [5]\n",
    "<br>\"-2\" - 记录加 -2 ，记录现在是 [5, -2]\n",
    "<br>\"4\" - 记录加 4 ，记录现在是 [5, -2, 4]\n",
    "<br>\"C\" - 使前一次得分的记录无效并将其移除，记录现在是 [5, -2]\n",
    "<br>\"D\" - 记录加 2 * -2 = -4 ，记录现在是 [5, -2, -4]\n",
    "<br>\"9\" - 记录加 9 ，记录现在是 [5, -2, -4, 9]\n",
    "<br>\"+\" - 记录加 -4 + 9 = 5 ，记录现在是 [5, -2, -4, 9, 5]\n",
    "<br>\"+\" - 记录加 9 + 5 = 14 ，记录现在是 [5, -2, -4, 9, 5, 14]\n",
    "<br>所有得分的总和 5 + -2 + -4 + 9 + 5 + 14 = 27\n",
    "<br>示例 3：\n",
    "\n",
    "<br>输入：ops = [\"1\"]\n",
    "<br>输出：1"
   ]
  },
  {
   "cell_type": "code",
   "execution_count": null,
   "metadata": {},
   "outputs": [],
   "source": [
    "class Solution:\n",
    "    def calPoints(self, ops: List[str]) -> int:\n",
    "        a = []\n",
    "\n",
    "        for i in ops:\n",
    "            if i == '+' :\n",
    "                a.append(int(a[-1]) + int(a[-2]))\n",
    "            elif i == 'D':\n",
    "                a.append(int(a[-1]) * 2)\n",
    "            elif i == 'C':\n",
    "                a.pop()\n",
    "            else:\n",
    "                a.append(int(i))\n",
    "        return sum(a)"
   ]
  },
  {
   "cell_type": "code",
   "execution_count": null,
   "metadata": {},
   "outputs": [],
   "source": []
  },
  {
   "cell_type": "code",
   "execution_count": null,
   "metadata": {},
   "outputs": [],
   "source": []
  },
  {
   "cell_type": "code",
   "execution_count": null,
   "metadata": {},
   "outputs": [],
   "source": []
  }
 ],
 "metadata": {
  "kernelspec": {
   "display_name": "Python 3",
   "language": "python",
   "name": "python3"
  },
  "language_info": {
   "codemirror_mode": {
    "name": "ipython",
    "version": 3
   },
   "file_extension": ".py",
   "mimetype": "text/x-python",
   "name": "python",
   "nbconvert_exporter": "python",
   "pygments_lexer": "ipython3",
   "version": "3.7.0"
  }
 },
 "nbformat": 4,
 "nbformat_minor": 2
}
