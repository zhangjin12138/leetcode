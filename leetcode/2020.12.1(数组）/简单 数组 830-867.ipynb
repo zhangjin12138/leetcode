{
 "cells": [
  {
   "cell_type": "markdown",
   "metadata": {},
   "source": [
    "# 830. 较大分组的位置\n",
    "在一个由小写字母构成的字符串 s 中，包含由一些连续的相同字符所构成的分组。\n",
    "\n",
    "例如，在字符串 s = \"abbxxxxzyy\" 中，就含有 \"a\", \"bb\", \"xxxx\", \"z\" 和 \"yy\" 这样的一些分组。\n",
    "\n",
    "分组可以用区间 [start, end] 表示，其中 start 和 end 分别表示该分组的起始和终止位置的下标。上例中的 \"xxxx\" 分组用区间表示为 [3,6] 。\n",
    "\n",
    "我们称所有包含大于或等于三个连续字符的分组为 较大分组 。\n",
    "\n",
    "找到每一个 较大分组 的区间，按起始位置下标递增顺序排序后，返回结果。\n",
    "\n",
    " \n",
    "\n",
    "示例 1：<br>\n",
    "<br>\n",
    "输入：s = \"abbxxxxzzy\"<br>\n",
    "输出：[[3,6]]<br>\n",
    "解释：\"xxxx\" 是一个起始于 3 且终止于 6 的较大分组。<br>\n",
    "示例 2：<br>\n",
    "<br>\n",
    "输入：s = \"abc\"<br>\n",
    "输出：[]<br>\n",
    "解释：\"a\",\"b\" 和 \"c\" 均不是符合要求的较大分组。<br>\n",
    "示例 3：<br>\n",
    "<br>\n",
    "输入：s = \"abcdddeeeeaabbbcd\"<br>\n",
    "输出：[[3,5],[6,9],[12,14]]<br>\n",
    "解释：较大分组为 \"ddd\", \"eeee\" 和 \"bbb\"<br>\n",
    "示例 4：<br>\n",
    "<br>\n",
    "输入：s = \"aba\"<br>\n",
    "输出：[]<br>"
   ]
  },
  {
   "cell_type": "code",
   "execution_count": null,
   "metadata": {},
   "outputs": [],
   "source": [
    "class Solution:\n",
    "    def largeGroupPositions(self, s: str) -> List[List[int]]:\n",
    "        res = []\n",
    "        \n",
    "        i = 0\n",
    "        k = len(s)\n",
    "        while i<(k-1):\n",
    "            if s[i] == s[i+1]:\n",
    "                j = i \n",
    "                while (j < (k-1)) and (s[j] == s[j+1]):\n",
    "                    j += 1\n",
    "                \n",
    "                if j+1-i >= 3:\n",
    "                    res.append([i, j])\n",
    "                i = j\n",
    "            i += 1\n",
    "        return res "
   ]
  },
  {
   "cell_type": "markdown",
   "metadata": {},
   "source": [
    "# <br>832. 翻转图像<br>\n",
    "给定一个二进制矩阵 A，我们想先水平翻转图像，然后反转图像并返回结果。<br>\n",
    "<br>\n",
    "水平翻转图片就是将图片的每一行都进行翻转，即逆序。例如，水平翻转 [1, 1, 0] 的结果是 [0, 1, 1]。<br>\n",
    "<br>\n",
    "反转图片的意思是图片中的 0 全部被 1 替换， 1 全部被 0 替换。例如，反转 [0, 1, 1] 的结果是 [1, 0, 0]。<br>\n",
    "<br>\n",
    "示例 1:<br>\n",
    "<br>\n",
    "输入: [[1,1,0],[1,0,1],[0,0,0]]<br>\n",
    "输出: [[1,0,0],[0,1,0],[1,1,1]]<br>\n",
    "解释: 首先翻转每一行: [[0,1,1],[1,0,1],[0,0,0]]；<br>\n",
    "     然后反转图片: [[1,0,0],[0,1,0],[1,1,1]]<br>\n",
    "示例 2:<br>\n",
    "<br>\n",
    "输入: [[1,1,0,0],[1,0,0,1],[0,1,1,1],[1,0,1,0]]<br>\n",
    "输出: [[1,1,0,0],[0,1,1,0],[0,0,0,1],[1,0,1,0]]<br>\n",
    "解释: 首先翻转每一行: [[0,0,1,1],[1,0,0,1],[1,1,1,0],[0,1,0,1]]；<br>\n",
    "     然后反转图片: [[1,1,0,0],[0,1,1,0],[0,0,0,1],[1,0,1,0]]<br>"
   ]
  },
  {
   "cell_type": "code",
   "execution_count": null,
   "metadata": {},
   "outputs": [],
   "source": [
    "class Solution:\n",
    "    def flipAndInvertImage(self, A: List[List[int]]) -> List[List[int]]:\n",
    "        B = []\n",
    "        for i in A:\n",
    "            B.append(i[::-1])\n",
    "\n",
    "        C = []\n",
    "        for i in B:\n",
    "            tmp = []\n",
    "            for j in i:\n",
    "                if j==1:\n",
    "                    tmp.append(0)\n",
    "                else:\n",
    "                    tmp.append(1)\n",
    "            C.append(tmp)\n",
    "        return C"
   ]
  },
  {
   "cell_type": "markdown",
   "metadata": {},
   "source": [
    "# 867. 转置矩阵\n",
    "给定一个矩阵 A， 返回 A 的转置矩阵。<br>\n",
    "<br>\n",
    "矩阵的转置是指将矩阵的主对角线翻转，交换矩阵的行索引与列索引<br>。\n",
    "<br>\n",
    " <br>\n",
    "<br>\n",
    "示例 1：<br>\n",
    "<br>\n",
    "输入：[[1,2,3],[4,5,6],[7,8,9]]<br>\n",
    "输出：[[1,4,7],[2,5,8],[3,6,9]]<br>\n",
    "示例 2：<br>\n",
    "<br>\n",
    "输入：[[1,2,3],[4,5,6]]<br>\n",
    "输出：[[1,4],[2,5],[3,6]]<br>"
   ]
  },
  {
   "cell_type": "code",
   "execution_count": null,
   "metadata": {},
   "outputs": [],
   "source": [
    "class Solution:\n",
    "    def transpose(self, A: List[List[int]]) -> List[List[int]]:\n",
    "        m = len(A)\n",
    "        n = len(A[0])\n",
    "\n",
    "        B = []\n",
    "        for i in range(n):\n",
    "            C = []\n",
    "            for j in range(m):\n",
    "                C.append(A[j][i])\n",
    "            B.append(C)\n",
    "        return B"
   ]
  }
 ],
 "metadata": {
  "hide_input": false,
  "kernelspec": {
   "display_name": "Python 3",
   "language": "python",
   "name": "python3"
  },
  "language_info": {
   "codemirror_mode": {
    "name": "ipython",
    "version": 3
   },
   "file_extension": ".py",
   "mimetype": "text/x-python",
   "name": "python",
   "nbconvert_exporter": "python",
   "pygments_lexer": "ipython3",
   "version": "3.7.9"
  }
 },
 "nbformat": 4,
 "nbformat_minor": 4
}
