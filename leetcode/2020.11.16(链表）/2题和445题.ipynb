{
 "cells": [
  {
   "cell_type": "markdown",
   "metadata": {},
   "source": [
    "# 两数相加"
   ]
  },
  {
   "cell_type": "markdown",
   "metadata": {},
   "source": [
    "给出两个 非空 的链表用来表示两个非负的整数。其中，它们各自的位数是按照 逆序 的方式存储的，并且它们的每个节点只能存储 一位 数字。\n",
    "\n",
    "如果，我们将这两个数相加起来，则会返回一个新的链表来表示它们的和。\n",
    "\n",
    "您可以假设除了数字 0 之外，这两个数都不会以 0 开头。\n",
    "\n",
    "示例：\n",
    "\n",
    "输入：(2 -> 4 -> 3) + (5 -> 6 -> 4)\n",
    "输出：7 -> 0 -> 8\n",
    "原因：342 + 465 = 807\n",
    "\n",
    "来源：力扣（LeetCode）\n",
    "链接：https://leetcode-cn.com/problems/add-two-numbers\n",
    "著作权归领扣网络所有。商业转载请联系官方授权，非商业转载请注明出处。"
   ]
  },
  {
   "cell_type": "markdown",
   "metadata": {},
   "source": [
    "思路：类似昨天做的445题  不再赘述"
   ]
  },
  {
   "cell_type": "code",
   "execution_count": null,
   "metadata": {
    "code_folding": []
   },
   "outputs": [],
   "source": [
    "class Solution:\n",
    "    def addTwoNumbers(self, l1: ListNode, l2: ListNode) -> ListNode:\n",
    "        a = []\n",
    "        b = []\n",
    "\n",
    "        while l1:\n",
    "            a.append(str(l1.val))\n",
    "            l1 = l1.next \n",
    "        while l2:\n",
    "            b.append(str(l2.val))\n",
    "            l2 = l2.next \n",
    "\n",
    "        c = ''\n",
    "        d = ''\n",
    "        while a:\n",
    "            c += a.pop()\n",
    "        while b:\n",
    "            d += b.pop()\n",
    "        \n",
    "        alls = int(c) + int(d)\n",
    "        if alls==0:\n",
    "            return ListNode(0)\n",
    "        \n",
    "        dummy = ListNode()\n",
    "        t = dummy\n",
    "        while alls:\n",
    "            tmp = ListNode()\n",
    "            tmp.val = alls % 10\n",
    "            alls = alls // 10\n",
    "            dummy.next = tmp \n",
    "            dummy = dummy.next\n",
    "\n",
    "        return t.next "
   ]
  },
  {
   "cell_type": "markdown",
   "metadata": {},
   "source": [
    "# 链表的中间结点"
   ]
  },
  {
   "cell_type": "markdown",
   "metadata": {},
   "source": [
    "给定一个头结点为 head 的非空单链表，返回链表的中间结点。\n",
    "\n",
    "如果有两个中间结点，则返回第二个中间结点。\n",
    "\n",
    " \n",
    "\n",
    "示例 1：\n",
    "\n",
    "输入：[1,2,3,4,5]\n",
    "输出：此列表中的结点 3 (序列化形式：[3,4,5])\n",
    "返回的结点值为 3 。 (测评系统对该结点序列化表述是 [3,4,5])。\n",
    "注意，我们返回了一个 ListNode 类型的对象 ans，这样：\n",
    "ans.val = 3, ans.next.val = 4, ans.next.next.val = 5, 以及 ans.next.next.next = NULL.\n",
    "示例 2：\n",
    "\n",
    "输入：[1,2,3,4,5,6]\n",
    "输出：此列表中的结点 4 (序列化形式：[4,5,6])\n",
    "由于该列表有两个中间结点，值分别为 3 和 4，我们返回第二个结点。\n",
    " \n",
    "\n",
    "提示：\n",
    "\n",
    "给定链表的结点数介于 1 和 100 之间。\n",
    "\n",
    "来源：力扣（LeetCode）\n",
    "链接：https://leetcode-cn.com/problems/middle-of-the-linked-list\n",
    "著作权归领扣网络所有。商业转载请联系官方授权，非商业转载请注明出处。"
   ]
  },
  {
   "cell_type": "markdown",
   "metadata": {},
   "source": [
    "思路：前后指针"
   ]
  },
  {
   "cell_type": "code",
   "execution_count": null,
   "metadata": {
    "code_folding": []
   },
   "outputs": [],
   "source": [
    "class Solution:\n",
    "    def middleNode(self, head: ListNode) -> ListNode:\n",
    "        tmp = head \n",
    "        while head and head.next:\n",
    "            head = head.next.next\n",
    "            tmp = tmp.next \n",
    "        return tmp "
   ]
  }
 ],
 "metadata": {
  "hide_input": false,
  "kernelspec": {
   "display_name": "Python 3",
   "language": "python",
   "name": "python3"
  },
  "language_info": {
   "codemirror_mode": {
    "name": "ipython",
    "version": 3
   },
   "file_extension": ".py",
   "mimetype": "text/x-python",
   "name": "python",
   "nbconvert_exporter": "python",
   "pygments_lexer": "ipython3",
   "version": "3.7.9"
  }
 },
 "nbformat": 4,
 "nbformat_minor": 4
}
