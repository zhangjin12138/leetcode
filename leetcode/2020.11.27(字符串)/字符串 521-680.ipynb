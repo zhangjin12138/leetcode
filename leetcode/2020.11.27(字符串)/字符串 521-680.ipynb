{
 "cells": [
  {
   "cell_type": "markdown",
   "metadata": {},
   "source": [
    "521. 最长特殊序列 Ⅰ<br>\n",
    "给你两个字符串，请你从这两个字符串中找出最长的特殊序列。<br>\n",
    "<br>\n",
    "「最长特殊序列」定义如下：该序列为某字符串独有的最长子序列（即不能是其他字符串的子序列）。<br>\n",
    "<br>\n",
    "子序列 可以通过删去字符串中的某些字符实现，但不能改变剩余字符的相对顺序。空序列为所有字符串的子序列，任何字符串为其自身的子序列。<br>\n",
    "<br>\n",
    "输入为两个字符串，输出最长特殊序列的长度。如果不存在，则返回 -1。<br>\n",
    "<br>\n",
    " <br>\n",
    "<br>\n",
    "示例 1：<br>\n",
    "<br>\n",
    "输入: \"aba\", \"cdc\"<br>\n",
    "输出: 3<br>\n",
    "解释: 最长特殊序列可为 \"aba\" (或 \"cdc\")，两者均为自身的子序列且不是对方的子序列。<br>\n",
    "示例 2：<br>\n",
    "<br>\n",
    "输入：a = \"aaa\", b = \"bbb\"<br>\n",
    "输出：3<br>\n",
    "示例 3：<br>\n",
    "<br>\n",
    "输入：a = \"aaa\", b = \"aaa\"<br>\n",
    "输出：-1<br>"
   ]
  },
  {
   "cell_type": "code",
   "execution_count": 1,
   "metadata": {
    "ExecuteTime": {
     "end_time": "2020-11-29T13:56:56.783678Z",
     "start_time": "2020-11-29T13:56:56.781164Z"
    }
   },
   "outputs": [],
   "source": [
    "class Solution:\n",
    "    def findLUSlength(self, a: str, b: str) -> int:\n",
    "        if a==b:\n",
    "            return -1\n",
    "        else:\n",
    "            return max(len(a), len(b))"
   ]
  },
  {
   "cell_type": "markdown",
   "metadata": {},
   "source": [
    "541. 反转字符串 II<br>\n",
    "给定一个字符串 s 和一个整数 k，你需要对从字符串开头算起的每隔 2k 个字符的前 k 个字符进行反转。<br>\n",
    "<br>\n",
    "如果剩余字符少于 k 个，则将剩余字符全部反转。<br>\n",
    "如果剩余字符小于 2k 但大于或等于 k 个，则反转前 k 个字符，其余字符保持原样。<br>\n",
    " <br>\n",
    "<br>\n",
    "示例:<br>\n",
    "<br>\n",
    "输入: s = \"abcdefg\", k = 2<br>\n",
    "输出: \"bacdfeg\"<br>"
   ]
  },
  {
   "cell_type": "code",
   "execution_count": 2,
   "metadata": {
    "ExecuteTime": {
     "end_time": "2020-11-29T13:57:32.569497Z",
     "start_time": "2020-11-29T13:57:32.565508Z"
    }
   },
   "outputs": [],
   "source": [
    "class Solution:\n",
    "    def checkRecord(self, s: str) -> bool:\n",
    "        if s.count('A')>=2:\n",
    "            return False\n",
    "\n",
    "        if 'LLL' in s:\n",
    "            return False\n",
    "        else:\n",
    "            return True"
   ]
  },
  {
   "cell_type": "markdown",
   "metadata": {},
   "source": [
    "551. 学生出勤记录 I<br>\n",
    "给定一个字符串来代表一个学生的出勤记录，这个记录仅包含以下三个字符：<br>\n",
    "<br>\n",
    "'A' : Absent，缺勤<br>\n",
    "'L' : Late，迟到<br>\n",
    "'P' : Present，到场<br>\n",
    "如果一个学生的出勤记录中不超过一个'A'(缺勤)并且不超过两个连续的'L'(迟到),那么这个学生会被奖赏。<br>\n",
    "<br>\n",
    "你需要根据这个学生的出勤记录判断他是否会被奖赏。<br>\n",
    "<br>\n",
    "示例 1:<br>\n",
    "<br>\n",
    "输入: \"PPALLP\"<br>\n",
    "输出: True<br>"
   ]
  },
  {
   "cell_type": "code",
   "execution_count": 4,
   "metadata": {
    "ExecuteTime": {
     "end_time": "2020-11-29T13:58:39.055887Z",
     "start_time": "2020-11-29T13:58:39.053802Z"
    }
   },
   "outputs": [],
   "source": [
    "class Solution:\n",
    "    def checkRecord(self, s: str) -> bool:\n",
    "        if s.count('A')>=2:\n",
    "            return False\n",
    "\n",
    "        if 'LLL' in s:\n",
    "            return False\n",
    "        else:\n",
    "            return True"
   ]
  },
  {
   "cell_type": "markdown",
   "metadata": {},
   "source": [
    "557. 反转字符串中的单词 III<br>\n",
    "给定一个字符串，你需要反转字符串中每个单词的字符顺序，同时仍保留空格和单词的初始顺序。<br>\n",
    "<br>\n",
    " <br>\n",
    "<br>\n",
    "示例：<br>\n",
    "<br>\n",
    "输入：\"Let's take LeetCode contest\"<br>\n",
    "输出：\"s'teL ekat edoCteeL tsetnoc\"<br>"
   ]
  },
  {
   "cell_type": "code",
   "execution_count": 5,
   "metadata": {
    "ExecuteTime": {
     "end_time": "2020-11-29T13:58:59.929969Z",
     "start_time": "2020-11-29T13:58:59.925980Z"
    }
   },
   "outputs": [],
   "source": [
    "class Solution:\n",
    "    def reverseWords(self, s: str) -> str:\n",
    "        def reverse(s):\n",
    "            s = list(s)\n",
    "            b = ''\n",
    "            while s:\n",
    "                b += s.pop()\n",
    "            return b\n",
    "\n",
    "        s = s.split(' ')\n",
    "       \n",
    "        m = ''\n",
    "        for i in s:\n",
    "            m += reverse(i)\n",
    "            m += ' '\n",
    "        return m.strip()"
   ]
  },
  {
   "cell_type": "markdown",
   "metadata": {},
   "source": [
    "657. 机器人能否返回原点<br>\n",
    "在二维平面上，有一个机器人从原点 (0, 0) 开始。给出它的移动顺序，判断这个机器人在完成移动后是否在 (0, 0) 处结束。<br>\n",
    "<br>\n",
    "移动顺序由字符串表示。字符 move[i] 表示其第 i 次移动。机器人的有效动作有 R（右），L（左），U（上）和 D（下）。如果机器人在完成所有动作后返回原点，则返回 true。否则，返回 false。<br>\n",
    "<br>\n",
    "注意：机器人“面朝”的方向无关紧要。 “R” 将始终使机器人向右移动一次，“L” 将始终向左移动等。此外，假设每次移动机器人的移动幅度相同。<br>\n",
    "<br>\n",
    " <br>\n",
    "<br>\n",
    "示例 1:<br>\n",
    "<br>\n",
    "输入: \"UD\"<br>\n",
    "输出: true<br>\n",
    "解释：机器人向上移动一次，然后向下移动一次。所有动作都具有相同的幅度，因此它最终回到它开始的原点。因此，我们返回 true。<br>\n",
    "示例 2:<br>\n",
    "<br>\n",
    "输入: \"LL\"<br>\n",
    "输出: false<br>\n",
    "解释：机器人向左移动两次。它最终位于原点的左侧，距原点有两次 “移动” 的距离。我们返回 false，因为它在移动结束时没有返回原点。<br>\n",
    "通过次数70,429提交次数90,297<br>"
   ]
  },
  {
   "cell_type": "code",
   "execution_count": 6,
   "metadata": {
    "ExecuteTime": {
     "end_time": "2020-11-29T13:59:45.434328Z",
     "start_time": "2020-11-29T13:59:45.430339Z"
    }
   },
   "outputs": [],
   "source": [
    "class Solution:\n",
    "    def judgeCircle(self, moves: str) -> bool:\n",
    "        u = l = r = d = 0\n",
    "        for i in moves:\n",
    "            if i == 'U':\n",
    "                u += 1\n",
    "            elif i == 'D':\n",
    "                d += 1\n",
    "            elif i == 'R':\n",
    "                r += 1\n",
    "            else:\n",
    "                l += 1\n",
    "        if (u==d) and (l==r):\n",
    "            return True \n",
    "        else:\n",
    "            return False"
   ]
  },
  {
   "cell_type": "markdown",
   "metadata": {},
   "source": [
    "680. 验证回文字符串 Ⅱ<br>\n",
    "给定一个非空字符串 s，最多删除一个字符。判断是否能成为回文字符串。<br>\n",
    "<br>\n",
    "示例 1:<br>\n",
    "<br>\n",
    "输入: \"aba\"<br>\n",
    "输出: True<br>\n",
    "示例 2:<br>\n",
    "<br>\n",
    "输入: \"abca\"<br>\n",
    "输出: True<br>\n",
    "解释: 你可以删除c字符。<br>"
   ]
  },
  {
   "cell_type": "code",
   "execution_count": 7,
   "metadata": {
    "ExecuteTime": {
     "end_time": "2020-11-29T14:00:03.063321Z",
     "start_time": "2020-11-29T14:00:03.059305Z"
    }
   },
   "outputs": [],
   "source": [
    "class Solution:\n",
    "    def validPalindrome(self, s: str) -> bool:\n",
    "        isPalindrome = lambda s: s == s[::-1]\n",
    "        strPart = lambda s, x: s[:x] + s[x + 1:]\n",
    "        left = 0\n",
    "        right = len(s) - 1\n",
    "        while left < right:\n",
    "            if s[left] != s[right]:\n",
    "                return isPalindrome(strPart(s, left)) or isPalindrome(strPart(s, right))\n",
    "            left += 1\n",
    "            right -= 1\n",
    "        return True"
   ]
  },
  {
   "cell_type": "code",
   "execution_count": null,
   "metadata": {},
   "outputs": [],
   "source": []
  }
 ],
 "metadata": {
  "kernelspec": {
   "display_name": "Python 3",
   "language": "python",
   "name": "python3"
  },
  "language_info": {
   "codemirror_mode": {
    "name": "ipython",
    "version": 3
   },
   "file_extension": ".py",
   "mimetype": "text/x-python",
   "name": "python",
   "nbconvert_exporter": "python",
   "pygments_lexer": "ipython3",
   "version": "3.7.0"
  }
 },
 "nbformat": 4,
 "nbformat_minor": 2
}
