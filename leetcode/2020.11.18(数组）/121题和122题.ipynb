{
 "cells": [
  {
   "cell_type": "markdown",
   "metadata": {},
   "source": [
    "# 121. 买卖股票的最佳时机"
   ]
  },
  {
   "cell_type": "markdown",
   "metadata": {},
   "source": [
    "给定一个数组，它的第 i 个元素是一支给定股票第 i 天的价格。<br><br>\n",
    "\n",
    "如果你最多只允许完成一笔交易（即买入和卖出一支股票一次），设计一个算法来计算你所能获取的最大利润。<br><br>\n",
    "\n",
    "注意：你不能在买入股票前卖出股票。<br><br>\n",
    "\n",
    " \n",
    "\n",
    "示例 1:<br><br>\n",
    "\n",
    "输入: [7,1,5,3,6,4]<br>\n",
    "输出: 5<br>\n",
    "解释: 在第 2 天（股票价格 = 1）的时候买入，在第 5 天（股票价格 = 6）的时候卖出，最大利润 = 6-1 = 5 。<br>\n",
    "     注意利润不能是 7-1 = 6, 因为卖出价格需要大于买入价格；同时，你不能在买入前卖出股票。<br>\n",
    "示例 2:<br><br>\n",
    "\n",
    "输入: [7,6,4,3,1]<br>\n",
    "输出: 0<br>\n",
    "解释: 在这种情况下, 没有交易完成, 所以最大利润为 0。<br><br>\n",
    "\n",
    "来源：力扣（LeetCode）<br>\n",
    "链接：https://leetcode-cn.com/problems/best-time-to-buy-and-sell-stock<br>\n",
    "著作权归领扣网络所有。商业转载请联系官方授权，非商业转载请注明出处。<br>"
   ]
  },
  {
   "cell_type": "markdown",
   "metadata": {},
   "source": [
    "思路：遍历一遍数组，计算每次 到当天为止 的最小股票价格和最大利润。"
   ]
  },
  {
   "cell_type": "code",
   "execution_count": null,
   "metadata": {},
   "outputs": [],
   "source": [
    "class Solution:\n",
    "    def maxProfit(self, prices: List[int]) -> int:\n",
    "        max_profx = 0\n",
    "        min_profx = 1e9\n",
    "\n",
    "        for price in prices:\n",
    "            if price < min_profx:\n",
    "                min_profx = price \n",
    "            \n",
    "            if price - min_profx > max_profx:\n",
    "                max_profx = price - min_profx\n",
    "        return max_profx"
   ]
  },
  {
   "cell_type": "markdown",
   "metadata": {},
   "source": [
    "# 122. 买卖股票的最佳时机 II"
   ]
  },
  {
   "cell_type": "markdown",
   "metadata": {},
   "source": [
    "给定一个数组，它的第 i 个元素是一支给定股票第 i 天的价格。<br><br>\n",
    "\n",
    "设计一个算法来计算你所能获取的最大利润。你可以尽可能地完成更多的交易（多次买卖一支股票）。<br><br>\n",
    "\n",
    "注意：你不能同时参与多笔交易（你必须在再次购买前出售掉之前的股票）。<br><br>\n",
    "\n",
    " \n",
    "\n",
    "示例 1:<br><br>\n",
    "\n",
    "输入: [7,1,5,3,6,4]<br>\n",
    "输出: 7<br>\n",
    "解释: 在第 2 天（股票价格 = 1）的时候买入，在第 3 天（股票价格 = 5）的时候卖出, 这笔交易所能获得利润 = 5-1 = 4 。<br>\n",
    "     随后，在第 4 天（股票价格 = 3）的时候买入，在第 5 天（股票价格 = 6）的时候卖出, 这笔交易所能获得利润 = 6-3 = 3 。<br>\n",
    "示例 2:<br><br>\n",
    "\n",
    "输入: [1,2,3,4,5]<br>\n",
    "输出: 4<br>\n",
    "解释: 在第 1 天（股票价格 = 1）的时候买入，在第 5 天 （股票价格 = 5）的时候卖出, 这笔交易所能获得利润 = 5-1 = 4 。<br>\n",
    "     注意你不能在第 1 天和第 2 天接连购买股票，之后再将它们卖出。<br>\n",
    "     因为这样属于同时参与了多笔交易，你必须在再次购买前出售掉之前的股票。<br>\n",
    "示例 3:<br><br>\n",
    "\n",
    "输入: [7,6,4,3,1]<br>\n",
    "输出: 0<br>\n",
    "解释: 在这种情况下, 没有交易完成, 所以最大利润为 0。<br><br>\n",
    "\n",
    "来源：力扣（LeetCode）<br>\n",
    "链接：https://leetcode-cn.com/problems/best-time-to-buy-and-sell-stock-ii<br>\n",
    "著作权归领扣网络所有。商业转载请联系官方授权，非商业转载请注明出处。<br>"
   ]
  },
  {
   "cell_type": "markdown",
   "metadata": {},
   "source": [
    "思路：暴力算法，有收益就卖"
   ]
  },
  {
   "cell_type": "code",
   "execution_count": null,
   "metadata": {},
   "outputs": [],
   "source": [
    "class Solution:\n",
    "    def maxProfit(self, prices: List[int]) -> int:\n",
    "        res = 0\n",
    "        for i in range(1, len(prices)):\n",
    "            res += max(0, prices[i] - prices[i-1])\n",
    "        return res"
   ]
  }
 ],
 "metadata": {
  "hide_input": false,
  "kernelspec": {
   "display_name": "Python 3",
   "language": "python",
   "name": "python3"
  },
  "language_info": {
   "codemirror_mode": {
    "name": "ipython",
    "version": 3
   },
   "file_extension": ".py",
   "mimetype": "text/x-python",
   "name": "python",
   "nbconvert_exporter": "python",
   "pygments_lexer": "ipython3",
   "version": "3.7.9"
  }
 },
 "nbformat": 4,
 "nbformat_minor": 4
}
