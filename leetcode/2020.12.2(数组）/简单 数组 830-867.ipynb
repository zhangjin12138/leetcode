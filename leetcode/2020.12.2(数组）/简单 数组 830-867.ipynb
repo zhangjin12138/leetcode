{
 "cells": [
  {
   "cell_type": "markdown",
   "metadata": {},
   "source": [
    "# 888. 公平的糖果交换<br>\n",
    "爱丽丝和鲍勃有不同大小的糖果棒：A[i] 是爱丽丝拥有的第 i 块糖的大小，B[j] 是鲍勃拥有的第 j 块糖的大小。<br>\n",
    "<br>\n",
    "因为他们是朋友，所以他们想交换一个糖果棒，这样交换后，他们都有相同的糖果总量。（一个人拥有的糖果总量是他们拥有的糖果棒大小的总和。）<br>\n",
    "<br>\n",
    "返回一个整数数组 ans，其中 ans[0] 是爱丽丝必须交换的糖果棒的大小，ans[1] 是 Bob 必须交换的糖果棒的大小。<br>\n",
    "<br>\n",
    "如果有多个答案，你可以返回其中任何一个。保证答案存在。<br>\n",
    "<br>\n",
    " <br>\n",
    "<br>\n",
    "示例 1：<br>\n",
    "<br>\n",
    "输入：A = [1,1], B = [2,2]<br>\n",
    "输出：[1,2]<br>\n",
    "示例 2：<br>\n",
    "<br>\n",
    "输入：A = [1,2], B = [2,3]<br>\n",
    "输出：[1,2]<br>\n",
    "示例 3：<br>\n",
    "<br>\n",
    "输入：A = [2], B = [1,3]<br>\n",
    "输出：[2,3]<br>\n",
    "示例 4：<br>\n",
    "<br>\n",
    "输入：A = [1,2,5], B = [2,4]<br>\n",
    "输出：[5,4]<br>"
   ]
  },
  {
   "cell_type": "code",
   "execution_count": null,
   "metadata": {},
   "outputs": [],
   "source": [
    "class Solution:\n",
    "    def fairCandySwap(self, A: List[int], B: List[int]) -> List[int]:\n",
    "        diff = sum(A) - sum(B)\n",
    "        if diff > 0:\n",
    "            for i in A:\n",
    "                if (i-(diff/2)) in B:\n",
    "                    return [i, int(i-(diff/2))]\n",
    "        else:\n",
    "            diff = abs(diff)\n",
    "            for i in A:\n",
    "                if (i+(diff/2)) in B:\n",
    "                    return [i, int(i+(diff/2))]"
   ]
  },
  {
   "cell_type": "markdown",
   "metadata": {},
   "source": [
    "# 896. 单调数列\n",
    "如果数组是单调递增或单调递减的，那么它是单调的。<br>\n",
    "<br>\n",
    "如果对于所有 i <= j，A[i] <= A[j]，那么数组 A 是单调递增的。 如果对于所有 i <= j，A[i]> = A[j]，那么数组 A 是单调递减的。<br>\n",
    "<br>\n",
    "当给定的数组 A 是单调数组时返回 true，否则返回 false。<br>\n",
    "<br>\n",
    " <br>\n",
    "<br>\n",
    "示例 1：<br>\n",
    "<br>\n",
    "输入：[1,2,2,3]<br>\n",
    "输出：true<br>\n",
    "示例 2：<br>\n",
    "<br>\n",
    "输入：[6,5,4,4]<br>\n",
    "输出：true<br>\n",
    "示例 3：<br>\n",
    "<br>\n",
    "输入：[1,3,2]<br>\n",
    "输出：false<br>\n",
    "示例 4：<br>\n",
    "\n",
    "输入：[1,2,4,5]<br>\n",
    "输出：true<br>\n",
    "示例 5：<br>\n",
    "<br>\n",
    "输入：[1,1,1]<br>\n",
    "输出：true<br>"
   ]
  },
  {
   "cell_type": "code",
   "execution_count": null,
   "metadata": {},
   "outputs": [],
   "source": [
    "class Solution:\n",
    "    def isMonotonic(self, A: List[int]) -> bool:\n",
    "        up=1                      #递增：Ture\n",
    "        down=1                    #递减：True\n",
    "        for i in range(1,len(A)):\n",
    "            if not A[i-1]<=A[i]:  #若非递增\n",
    "                up=0              #更新递增label\n",
    "            if not A[-i]<=A[-i-1]:#若非递减\n",
    "                down=0            #更新递减label\n",
    "        if up==0 and down==0:\n",
    "            return False\n",
    "        else:\n",
    "            return True\n",
    "\n"
   ]
  },
  {
   "cell_type": "markdown",
   "metadata": {},
   "source": [
    "# 905. 按奇偶排序数组\n",
    "给定一个非负整数数组 A，返回一个数组，在该数组中， A 的所有偶数元素之后跟着所有奇数元素。<br>\n",
    "<br>\n",
    "你可以返回满足此条件的任何数组作为答案。<br>\n",
    "<br>\n",
    " <br>\n",
    "<br>\n",
    "示例：<br>\n",
    "<br>\n",
    "输入：[3,1,2,4]<br>\n",
    "输出：[2,4,3,1]<br>\n",
    "输出 [4,2,3,1]，[2,4,1,3] 和 [4,2,1,3] 也会被接受。<br>\n",
    " <br>"
   ]
  },
  {
   "cell_type": "code",
   "execution_count": null,
   "metadata": {},
   "outputs": [],
   "source": [
    "class Solution:\n",
    "    def sortArrayByParity(self, A: List[int]) -> List[int]:\n",
    "        i = 0\n",
    "        j = len(A)-1\n",
    "\n",
    "        while i < j:\n",
    "            while (i<j) and (A[i] % 2 == 0):\n",
    "                i += 1\n",
    "            while (i<j) and (A[j] %2 != 0):\n",
    "                j -= 1\n",
    "            \n",
    "            A[i], A[j] = A[j], A[i]\n",
    "\n",
    "            i+=1\n",
    "            j-=1\n",
    "        return A "
   ]
  },
  {
   "cell_type": "markdown",
   "metadata": {},
   "source": [
    "# 922. 按奇偶排序数组 II\n",
    "给定一个非负整数数组 A， A 中一半整数是奇数，一半整数是偶数。<br>\n",
    "<br>\n",
    "对数组进行排序，以便当 A[i] 为奇数时，i 也是奇数；当 A[i] 为偶数时， i 也是偶数。<br>\n",
    "<br>\n",
    "你可以返回任何满足上述条件的数组作为答案。<br>\n",
    "<br>\n",
    " <br>\n",
    "<br>\n",
    "示例：<br>\n",
    "<br>\n",
    "输入：[4,2,5,7]<br>\n",
    "输出：[4,5,2,7]<br>\n",
    "解释：[4,7,2,5]，[2,5,4,7]，[2,7,4,5] 也会被接受。<br>\n",
    " "
   ]
  },
  {
   "cell_type": "code",
   "execution_count": null,
   "metadata": {},
   "outputs": [],
   "source": [
    "class Solution:\n",
    "    def sortArrayByParityII(self, A: List[int]) -> List[int]:\n",
    "        a = [i for i in A if i%2 == 0]\n",
    "        b = [i for i in A if i%2 != 0]\n",
    "        alls = []\n",
    "        for i in range(len(a)):\n",
    "            alls.append(a[i])\n",
    "            alls.append(b[i])\n",
    "        return alls"
   ]
  },
  {
   "cell_type": "code",
   "execution_count": null,
   "metadata": {},
   "outputs": [],
   "source": []
  },
  {
   "cell_type": "markdown",
   "metadata": {},
   "source": [
    "# 941. 有效的山脉数组\n",
    "给定一个整数数组 A，如果它是有效的山脉数组就返回 true，否则返回 false。<br>\n",
    "<br>\n",
    "让我们回顾一下，如果 A 满足下述条件，那么它是一个山脉数组：<br>\n",
    "<br>\n",
    "A.length >= 3<br>\n",
    "在 0 < i < A.length - 1 条件下，存在 i 使得：<br>\n",
    "A[0] < A[1] < ... A[i-1] < A[i]<br>\n",
    "A[i] > A[i+1] > ... > A[A.length - 1]<br>\n",
    "示例 1：<br>\n",
    "<br>\n",
    "输入：[2,1]<br>\n",
    "输出：false<br>\n",
    "示例 2：<br>\n",
    "<br>\n",
    "输入：[3,5,5]<br>\n",
    "输出：false<br>\n",
    "示例 3：<br>\n",
    "<br>\n",
    "输入：[0,3,2,1]<br>"
   ]
  },
  {
   "cell_type": "code",
   "execution_count": null,
   "metadata": {},
   "outputs": [],
   "source": [
    "class Solution:\n",
    "    def validMountainArray(self, arr: List[int]) -> bool:\n",
    "        if len(arr) < 3:\n",
    "            return False\n",
    "        \n",
    "        top = 0\n",
    "\n",
    "        for i in range(len(arr)-1):\n",
    "            if arr[i+1] <= arr[i]:\n",
    "                if i!= 0 :\n",
    "                    top = 1\n",
    "                for j in range(i, len(arr)-1):\n",
    "                   \n",
    "                    if arr[j+1] >= arr[j]:\n",
    "                        return False \n",
    "                        \n",
    "                if top==1:\n",
    "                    return True\n",
    "                else:\n",
    "                    return False \n",
    "\n",
    "        return False "
   ]
  }
 ],
 "metadata": {
  "kernelspec": {
   "display_name": "Python 3",
   "language": "python",
   "name": "python3"
  },
  "language_info": {
   "codemirror_mode": {
    "name": "ipython",
    "version": 3
   },
   "file_extension": ".py",
   "mimetype": "text/x-python",
   "name": "python",
   "nbconvert_exporter": "python",
   "pygments_lexer": "ipython3",
   "version": "3.7.0"
  }
 },
 "nbformat": 4,
 "nbformat_minor": 2
}
