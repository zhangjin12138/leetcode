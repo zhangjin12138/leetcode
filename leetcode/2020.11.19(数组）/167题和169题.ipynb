{
 "cells": [
  {
   "cell_type": "markdown",
   "metadata": {},
   "source": [
    "# 167. 两数之和 II - 输入有序数组\n",
    "给定一个已按照升序排列 的有序数组，找到两个数使得它们相加之和等于目标数。<br><br>\n",
    "\n",
    "函数应该返回这两个下标值 index1 和 index2，其中 index1 必须小于 index2。<br><br>\n",
    "\n",
    "说明:<br><br>\n",
    "\n",
    "返回的下标值（index1 和 index2）不是从零开始的。<br>\n",
    "你可以假设每个输入只对应唯一的答案，而且你不可以重复使用相同的元素。<br>\n",
    "示例:<br><br><br>\n",
    "\n",
    "输入: numbers = [2, 7, 11, 15], target = 9<br>\n",
    "输出: [1,2]<br>\n",
    "解释: 2 与 7 之和等于目标数 9 。因此 index1 = 1, index2 = 2 。<br>\n",
    "\n",
    "https://leetcode-cn.com/problems/two-sum-ii-input-array-is-sorted/"
   ]
  },
  {
   "cell_type": "markdown",
   "metadata": {},
   "source": [
    "思路：用字典来保存遍历过的数"
   ]
  },
  {
   "cell_type": "code",
   "execution_count": null,
   "metadata": {},
   "outputs": [],
   "source": [
    "class Solution:\n",
    "    def twoSum(self, numbers: List[int], target: int) -> List[int]:\n",
    "        dct = {}\n",
    "        for inx, i in enumerate(numbers):\n",
    "            if i in dct:\n",
    "                return [dct[i]+1, inx+1]\n",
    "            dct[target-i] = inx\n"
   ]
  },
  {
   "cell_type": "markdown",
   "metadata": {},
   "source": [
    "# 169. 多数元素\n",
    "给定一个大小为 n 的数组，找到其中的多数元素。多数元素是指在数组中出现次数大于 ⌊ n/2 ⌋ 的元素。<br><br>\n",
    "\n",
    "你可以假设数组是非空的，并且给定的数组总是存在多数元素。<br><br>\n",
    "\n",
    " \n",
    "\n",
    "示例 1:<br><br>\n",
    "\n",
    "输入: [3,2,3]<br>\n",
    "输出: 3<br>\n",
    "示例 2:<br><br>\n",
    "\n",
    "输入: [2,2,1,1,1,2,2]<br>\n",
    "输出: 2<br>\n",
    "\n",
    "https://leetcode-cn.com/problems/majority-element/"
   ]
  },
  {
   "cell_type": "markdown",
   "metadata": {},
   "source": [
    "思路：用字典来保存次数"
   ]
  },
  {
   "cell_type": "code",
   "execution_count": null,
   "metadata": {},
   "outputs": [],
   "source": [
    "class Solution:\n",
    "    def majorityElement(self, nums: List[int]) -> int:\n",
    "        dicts = {}\n",
    "        for i in nums:\n",
    "            if i not in dicts:\n",
    "                dicts[i] = 1\n",
    "            else:\n",
    "                dicts[i] += 1\n",
    "        dicts = {v: k for k, v in dicts.items()}\n",
    "        \n",
    "        return dicts[max(dicts)]"
   ]
  }
 ],
 "metadata": {
  "hide_input": false,
  "kernelspec": {
   "display_name": "Python 3",
   "language": "python",
   "name": "python3"
  },
  "language_info": {
   "codemirror_mode": {
    "name": "ipython",
    "version": 3
   },
   "file_extension": ".py",
   "mimetype": "text/x-python",
   "name": "python",
   "nbconvert_exporter": "python",
   "pygments_lexer": "ipython3",
   "version": "3.7.9"
  }
 },
 "nbformat": 4,
 "nbformat_minor": 4
}
