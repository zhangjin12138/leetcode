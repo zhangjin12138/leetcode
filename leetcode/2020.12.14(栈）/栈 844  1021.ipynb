{
 "cells": [
  {
   "cell_type": "markdown",
   "metadata": {},
   "source": [
    "# <br>1021. 删除最外层的括号\n",
    "<br>有效括号字符串为空 (\"\")、\"(\" + A + \")\" 或 A + B，其中 A 和 B 都是有效的括号字符串，+ 代表字符串的连接。例如，\"\"，\"()\"，\"(())()\" 和 \"(()(()))\" 都是有效的括号字符串。\n",
    "<br>\n",
    "<br>如果有效字符串 S 非空，且不存在将其拆分为 S = A+B 的方法，我们称其为原语（primitive），其中 A 和 B 都是非空有效括号字符串。\n",
    "<br>\n",
    "<br>给出一个非空有效字符串 S，考虑将其进行原语化分解，使得：S = P_1 + P_2 + ... + P_k，其中 P_i 是有效括号字符串原语。\n",
    "<br>\n",
    "<br>对 S 进行原语化分解，删除分解中每个原语字符串的最外层括号，返回 S 。\n",
    "<br>\n",
    " <br>\n",
    "<br>\n",
    "<br>示例 1：\n",
    "<br>\n",
    "<br>输入：\"(()())(())\"\n",
    "<br>输出：\"()()()\"\n",
    "<br>解释：\n",
    "<br>输入字符串为 \"(()())(())\"，原语化分解得到 \"(()())\" + \"(())\"，\n",
    "<br>删除每个部分中的最外层括号后得到 \"()()\" + \"()\" = \"()()()\"。\n",
    "<br>示例 2：\n",
    "<br>\n",
    "<br>输入：\"(()())(())(()(()))\"\n",
    "<br>输出：\"()()()()(())\"\n",
    "<br>解释：\n",
    "<br>输入字符串为 \"(()())(())(()(()))\"，原语化分解得到 \"(()())\" + \"(())\" + \"(()(()))\"，\n",
    "<br>删除每个部分中的最外层括号后得到 \"()()\" + \"()\" + \"()(())\" = \"()()()()(())\"。\n",
    "<br>示例 3：\n",
    "<br>\n",
    "<br>输入：\"()()\"\n",
    "<br>输出：\"\"\n",
    "<br>解释：\n",
    "<br>输入字符串为 \"()()\"，原语化分解得到 \"()\" + \"()\"，\n",
    "<br>删除每个部分中的最外层括号后得到 \"\" + \"\" = \"\"。"
   ]
  },
  {
   "cell_type": "markdown",
   "metadata": {},
   "source": [
    "class Solution:\n",
    "    def removeOuterParentheses(self, S: str) -> str:\n",
    "        stack = []\n",
    "        result = ''\n",
    "        for i in S:\n",
    "            if i == '(':\n",
    "                stack.append(i)\n",
    "                if len(stack) > 1:\n",
    "                    result += '('\n",
    "            else:\n",
    "                stack.pop()\n",
    "                if len(stack) != 0:\n",
    "                    result += ')'\n",
    "        return result\n",
    "\n"
   ]
  },
  {
   "cell_type": "markdown",
   "metadata": {
    "ExecuteTime": {
     "end_time": "2020-12-14T11:58:09.208898Z",
     "start_time": "2020-12-14T11:58:09.203938Z"
    }
   },
   "source": [
    "# 844. 比较含退格的字符串\n",
    "<br>给定 S 和 T 两个字符串，当它们分别被输入到空白的文本编辑器后，判断二者是否相等，并返回结果。 # 代表退格字符。\n",
    "<br>\n",
    "<br>注意：如果对空文本输入退格字符，文本继续为空。\n",
    "<br>\n",
    "<br> \n",
    "<br>\n",
    "<br>示例 1：\n",
    "<br>\n",
    "<br>输入：S = \"ab#c\", T = \"ad#c\"\n",
    "<br>输出：true\n",
    "<br>解释：S 和 T 都会变成 “ac”。\n",
    "<br>示例 2：\n",
    "<br>\n",
    "<br>输入：S = \"ab##\", T = \"c#d#\"\n",
    "<br>输出：true\n",
    "<br>解释：S 和 T 都会变成 “”。\n",
    "<br>示例 3：\n",
    "<br>\n",
    "<br>输入：S = \"a##c\", T = \"#a#c\"\n",
    "<br>输出：true\n",
    "<br>解释：S 和 T 都会变成 “c”。\n",
    "<br>示例 4：\n",
    "<br>\n",
    "<br>输入：S = \"a#c\", T = \"b\"\n",
    "<br>输出：false\n",
    "<br>解释：S 会变成 “c”，但 T 仍然是 “b”。"
   ]
  },
  {
   "cell_type": "markdown",
   "metadata": {},
   "source": [
    "class Solution:\n",
    "    def backspaceCompare(self, S: str, T: str) -> bool:\n",
    "        a = []\n",
    "        b = []\n",
    "\n",
    "        for i in S:\n",
    "            if i != '#':\n",
    "                a.append(i)\n",
    "            else:\n",
    "                if len(a) == 0:\n",
    "                    continue\n",
    "                else:\n",
    "                    a.pop()\n",
    "            \n",
    "        for j in T:\n",
    "            if j != '#':\n",
    "                b.append(j)\n",
    "            else:\n",
    "                if len(b) == 0:\n",
    "                    continue\n",
    "                else:\n",
    "                    b.pop()\n",
    "\n",
    "        return a == b\n"
   ]
  }
 ],
 "metadata": {
  "kernelspec": {
   "display_name": "Python 3",
   "language": "python",
   "name": "python3"
  },
  "language_info": {
   "codemirror_mode": {
    "name": "ipython",
    "version": 3
   },
   "file_extension": ".py",
   "mimetype": "text/x-python",
   "name": "python",
   "nbconvert_exporter": "python",
   "pygments_lexer": "ipython3",
   "version": "3.7.0"
  }
 },
 "nbformat": 4,
 "nbformat_minor": 2
}
