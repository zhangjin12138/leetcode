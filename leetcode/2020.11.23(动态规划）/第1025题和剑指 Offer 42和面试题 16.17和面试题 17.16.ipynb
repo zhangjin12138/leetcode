{
 "cells": [
  {
   "cell_type": "markdown",
   "metadata": {},
   "source": [
    "# 1025. 除数博弈"
   ]
  },
  {
   "cell_type": "markdown",
   "metadata": {},
   "source": [
    "爱丽丝和鲍勃一起玩游戏，他们轮流行动。爱丽丝先手开局。<br><br>\n",
    "\n",
    "最初，黑板上有一个数字 N 。在每个玩家的回合，玩家需要执行以下操作：<br><br>\n",
    "\n",
    "选出任一 x，满足 0 < x < N 且 N % x == 0 。<br>\n",
    "用 N - x 替换黑板上的数字 N 。<br>\n",
    "如果玩家无法执行这些操作，就会输掉游戏。<br>\n",
    "\n",
    "只有在爱丽丝在游戏中取得胜利时才返回 True，否则返回 False。假设两个玩家都以最佳状态参与游戏。<br><br><br>\n",
    "\n",
    " \n",
    "\n",
    "示例 1：<br><br>\n",
    "\n",
    "输入：2<br>\n",
    "输出：true<br>\n",
    "解释：爱丽丝选择 1，鲍勃无法进行操作。<br>\n",
    "示例 2：<br><br>\n",
    "\n",
    "输入：3<br>\n",
    "输出：false<br>\n",
    "解释：爱丽丝选择 1，鲍勃也选择 1，然后爱丽丝无法进行操作。<br><br>\n",
    "\n",
    "来源：力扣（LeetCode）<br>\n",
    "链接：https://leetcode-cn.com/problems/divisor-game<br>\n",
    "著作权归领扣网络所有。商业转载请联系官方授权，非商业转载请注明出处。<br>"
   ]
  },
  {
   "cell_type": "markdown",
   "metadata": {},
   "source": [
    "思路：俩聪明绝顶的人一个一个出牌"
   ]
  },
  {
   "cell_type": "code",
   "execution_count": null,
   "metadata": {},
   "outputs": [],
   "source": [
    "class Solution:\n",
    "    def divisorGame(self, N: int) -> bool:\n",
    "        m = N%2\n",
    "    \n",
    "        \n",
    "        if m==0:\n",
    "            return True\n",
    "        else:\n",
    "            return False"
   ]
  },
  {
   "cell_type": "markdown",
   "metadata": {},
   "source": [
    "# 剑指 Offer 42. 连续子数组的最大和"
   ]
  },
  {
   "cell_type": "markdown",
   "metadata": {},
   "source": [
    "输入一个整型数组，数组中的一个或连续多个整数组成一个子数组。求所有子数组的和的最大值。\n",
    "\n",
    "要求时间复杂度为O(n)。\n",
    "\n",
    " \n",
    "\n",
    "示例1:\n",
    "\n",
    "输入: nums = [-2,1,-3,4,-1,2,1,-5,4]\n",
    "输出: 6\n",
    "解释: 连续子数组 [4,-1,2,1] 的和最大，为 6。\n",
    "\n",
    "来源：力扣（LeetCode）\n",
    "链接：https://leetcode-cn.com/problems/lian-xu-zi-shu-zu-de-zui-da-he-lcof\n",
    "著作权归领扣网络所有。商业转载请联系官方授权，非商业转载请注明出处。"
   ]
  },
  {
   "cell_type": "markdown",
   "metadata": {},
   "source": [
    "思路：用一个数组来不断保存和"
   ]
  },
  {
   "cell_type": "code",
   "execution_count": null,
   "metadata": {},
   "outputs": [],
   "source": [
    "class Solution:\n",
    "    def maxSubArray(self, nums: List[int]) -> int:\n",
    "        dp=[0]*len(nums)\n",
    "        dp[0]=nums[0]\n",
    "        for i in range(1,len(nums)):\n",
    "            dp[i]=max(nums[i],nums[i]+dp[i-1])\n",
    "        print(dp )\n",
    "        return max(dp)"
   ]
  },
  {
   "cell_type": "markdown",
   "metadata": {},
   "source": [
    "# 面试题 16.17. 连续数列\n",
    "给定一个整数数组，找出总和最大的连续数列，并返回总和。<br><br>\n",
    "\n",
    "示例：<br><br>\n",
    "\n",
    "输入： [-2,1,-3,4,-1,2,1,-5,4]<br>\n",
    "输出： 6<br>\n",
    "解释： 连续子数组 [4,-1,2,1] 的和最大，为 6。<br>"
   ]
  },
  {
   "cell_type": "code",
   "execution_count": null,
   "metadata": {},
   "outputs": [],
   "source": [
    "class Solution:\n",
    "    def maxSubArray(self, nums: List[int]) -> int:\n",
    "        dp=[0]*len(nums)\n",
    "        dp[0]=nums[0]\n",
    "        for i in range(1,len(nums)):\n",
    "            dp[i]=max(nums[i],nums[i]+dp[i-1])\n",
    "        return max(dp)"
   ]
  },
  {
   "cell_type": "markdown",
   "metadata": {},
   "source": [
    "# 面试题 17.16. 按摩师\n",
    "一个有名的按摩师会收到源源不断的预约请求，每个预约都可以选择接或不接。在每次预约服务之间要有休息时间，因此她不能接受相邻的预约。给定一个预约请求序列，替按摩师找到最优的预约集合（总预约时间最长），返回总的分钟数。<br><br><br>\n",
    "\n",
    "注意：本题相对原题稍作改动<br><br><br>\n",
    "\n",
    " \n",
    "\n",
    "示例 1：<br><br>\n",
    "\n",
    "输入： [1,2,3,1]<br>\n",
    "输出： 4<br>\n",
    "解释： 选择 1 号预约和 3 号预约，总时长 = 1 + 3 = 4。<br>\n",
    "示例 2：<br><br>\n",
    "\n",
    "输入： [2,7,9,3,1]<br>\n",
    "输出： 12<br>\n",
    "解释： 选择 1 号预约、 3 号预约和 5 号预约，总时长 = 2 + 9 + 1 = 12。<br>\n",
    "示例 3：<br><br>\n",
    "\n",
    "输入： [2,1,4,5,3,1,1,3]<br>\n",
    "输出： 12<br>\n",
    "解释： 选择 1 号预约、 3 号预约、 5 号预约和 8 号预约，总时长 = 2 + 4 + 3 + 3 = 12。<br><br>"
   ]
  },
  {
   "cell_type": "code",
   "execution_count": null,
   "metadata": {},
   "outputs": [],
   "source": [
    "class Solution:\n",
    "    def massage(self, nums: List[int]) -> int:\n",
    "        if len(nums) == 0:\n",
    "            return 0\n",
    "        elif len(nums) == 1:\n",
    "            return nums[0]\n",
    "        elif len(nums) == 2:\n",
    "            return max(nums)\n",
    "        else:\n",
    "            \n",
    "            dp = [nums[0], max(nums[0], nums[1])]\n",
    "            for i in range(2, len(nums)):\n",
    "                dp.append(max(dp[i-2] + nums[i], dp[i-1]))\n",
    "        return max(dp)"
   ]
  }
 ],
 "metadata": {
  "kernelspec": {
   "display_name": "Python 3",
   "language": "python",
   "name": "python3"
  },
  "language_info": {
   "codemirror_mode": {
    "name": "ipython",
    "version": 3
   },
   "file_extension": ".py",
   "mimetype": "text/x-python",
   "name": "python",
   "nbconvert_exporter": "python",
   "pygments_lexer": "ipython3",
   "version": "3.7.0"
  }
 },
 "nbformat": 4,
 "nbformat_minor": 2
}
