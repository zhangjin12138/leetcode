{
 "cells": [
  {
   "cell_type": "markdown",
   "metadata": {},
   "source": [
    "217. 存在重复元素<br>\n",
    "给定一个整数数组，判断是否存在重复元素。<br>\n",
    "<br>\n",
    "如果任意一值在数组中出现至少两次，函数返回 true 。如果数组中每个元素都不相同，则返回 false 。<br>\n",
    "<br>\n",
    " <br>\n",
    "<br>\n",
    "示例 1:<br>\n",
    "<br>\n",
    "输入: [1,2,3,1]<br>\n",
    "输出: true<br>\n",
    "示例 2:<br>\n",
    "<br>\n",
    "输入: [1,2,3,4]<br>\n",
    "输出: false<br>\n",
    "示例 3:<br>\n",
    "<br>\n",
    "输入: [1,1,1,3,3,4,3,2,4,2]<br>\n",
    "输出: true<br>"
   ]
  },
  {
   "cell_type": "code",
   "execution_count": 1,
   "metadata": {
    "ExecuteTime": {
     "end_time": "2020-11-29T14:02:48.440215Z",
     "start_time": "2020-11-29T14:02:48.436256Z"
    }
   },
   "outputs": [],
   "source": [
    "class Solution(object):\n",
    "    def containsDuplicate(self, nums):\n",
    "        \"\"\"\n",
    "        :type nums: List[int]\n",
    "        :rtype: bool\n",
    "        \"\"\"\n",
    "        return len(nums)>len(set(nums))"
   ]
  },
  {
   "cell_type": "markdown",
   "metadata": {},
   "source": [
    "219. 存在重复元素 II<br>\n",
    "给定一个整数数组和一个整数 k，判断数组中是否存在两个不同的索引 i 和 j，使得 nums [i] = nums [j]，并且 i 和 j 的差的 绝对值 至多为 k。<br>\n",
    "<br>\n",
    " <br>\n",
    "<br>\n",
    "示例 1:<br>\n",
    "<br>\n",
    "输入: nums = [1,2,3,1], k = 3<br>\n",
    "输出: true<br>\n",
    "示例 2:<br>\n",
    "<br>\n",
    "输入: nums = [1,0,1,1], k = 1<br>\n",
    "输出: true<br>\n",
    "示例 3:<br>\n",
    "<br>\n",
    "输入: nums = [1,2,3,1,2,3], k = 2<br>\n",
    "输出: false<br>"
   ]
  },
  {
   "cell_type": "code",
   "execution_count": 2,
   "metadata": {
    "ExecuteTime": {
     "end_time": "2020-11-29T14:03:15.665438Z",
     "start_time": "2020-11-29T14:03:15.660489Z"
    }
   },
   "outputs": [],
   "source": [
    "class Solution(object):\n",
    "    def containsNearbyDuplicate(self, nums, k):\n",
    "        \"\"\"\n",
    "        :type nums: List[int]\n",
    "        :type k: int\n",
    "        :rtype: bool\n",
    "        \"\"\"\n",
    "        dct = {}\n",
    "        for i in range(len(nums)):\n",
    "            if nums[i] in dct and dct[nums[i]] >= i-k:\n",
    "                return True\n",
    "            dct[nums[i]] = i\n",
    "        return False\n"
   ]
  },
  {
   "cell_type": "code",
   "execution_count": null,
   "metadata": {},
   "outputs": [],
   "source": []
  }
 ],
 "metadata": {
  "kernelspec": {
   "display_name": "Python 3",
   "language": "python",
   "name": "python3"
  },
  "language_info": {
   "codemirror_mode": {
    "name": "ipython",
    "version": 3
   },
   "file_extension": ".py",
   "mimetype": "text/x-python",
   "name": "python",
   "nbconvert_exporter": "python",
   "pygments_lexer": "ipython3",
   "version": "3.7.0"
  }
 },
 "nbformat": 4,
 "nbformat_minor": 2
}
