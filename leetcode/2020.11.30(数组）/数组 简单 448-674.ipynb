{
 "cells": [
  {
   "cell_type": "markdown",
   "metadata": {},
   "source": [
    "给定一个范围在  1 ≤ a[i] ≤ n ( n = 数组大小 ) 的 整型数组，数组中的元素一些出现了两次，另一些只出现一次。<br>\n",
    "<br>\n",
    "找到所有在 [1, n] 范围之间没有出现在数组中的数字。<br>\n",
    "<br>\n",
    "您能在不使用额外空间且时间复杂度为O(n)的情况下完成这个任务吗? 你可以假定返回的数组不算在额外空间内。<br>\n",
    "<br>\n",
    "示例:<br>\n",
    "<br>\n",
    "输入:<br>\n",
    "[4,3,2,7,8,2,3,1]<br>\n",
    "<br>\n",
    "输出:<br>\n",
    "[5,6]<br>\n",
    "<br>\n",
    "来源：力扣（LeetCode）<br>\n",
    "链接：https://leetcode-cn.com/problems/find-all-numbers-disappeared-in-an-array<br>\n",
    "著作权归领扣网络所有。商业转载请联系官方授权，非商业转载请注明出处。<br>"
   ]
  },
  {
   "cell_type": "code",
   "execution_count": 1,
   "metadata": {
    "ExecuteTime": {
     "end_time": "2020-11-30T03:58:52.106930Z",
     "start_time": "2020-11-30T03:58:51.980267Z"
    },
    "collapsed": true
   },
   "outputs": [
    {
     "ename": "NameError",
     "evalue": "name 'List' is not defined",
     "output_type": "error",
     "traceback": [
      "\u001b[1;31m---------------------------------------------------------------------------\u001b[0m",
      "\u001b[1;31mNameError\u001b[0m                                 Traceback (most recent call last)",
      "\u001b[1;32m<ipython-input-1-85a88add7203>\u001b[0m in \u001b[0;36m<module>\u001b[1;34m\u001b[0m\n\u001b[1;32m----> 1\u001b[1;33m \u001b[1;32mclass\u001b[0m \u001b[0mSolution\u001b[0m\u001b[1;33m:\u001b[0m\u001b[1;33m\u001b[0m\u001b[1;33m\u001b[0m\u001b[0m\n\u001b[0m\u001b[0;32m      2\u001b[0m     \u001b[1;32mdef\u001b[0m \u001b[0mfindDisappearedNumbers\u001b[0m\u001b[1;33m(\u001b[0m\u001b[0mself\u001b[0m\u001b[1;33m,\u001b[0m \u001b[0mnums\u001b[0m\u001b[1;33m:\u001b[0m \u001b[0mList\u001b[0m\u001b[1;33m[\u001b[0m\u001b[0mint\u001b[0m\u001b[1;33m]\u001b[0m\u001b[1;33m)\u001b[0m \u001b[1;33m->\u001b[0m \u001b[0mList\u001b[0m\u001b[1;33m[\u001b[0m\u001b[0mint\u001b[0m\u001b[1;33m]\u001b[0m\u001b[1;33m:\u001b[0m\u001b[1;33m\u001b[0m\u001b[1;33m\u001b[0m\u001b[0m\n\u001b[0;32m      3\u001b[0m         \u001b[0mdicts\u001b[0m \u001b[1;33m=\u001b[0m \u001b[1;33m{\u001b[0m\u001b[0mv\u001b[0m \u001b[1;33m:\u001b[0m \u001b[1;36m0\u001b[0m \u001b[1;32mfor\u001b[0m \u001b[0mv\u001b[0m \u001b[1;32min\u001b[0m \u001b[0mrange\u001b[0m\u001b[1;33m(\u001b[0m\u001b[1;36m1\u001b[0m\u001b[1;33m,\u001b[0m \u001b[1;36m1\u001b[0m\u001b[1;33m+\u001b[0m\u001b[0mlen\u001b[0m\u001b[1;33m(\u001b[0m\u001b[0mnums\u001b[0m\u001b[1;33m)\u001b[0m\u001b[1;33m)\u001b[0m\u001b[1;33m}\u001b[0m\u001b[1;33m\u001b[0m\u001b[1;33m\u001b[0m\u001b[0m\n\u001b[0;32m      4\u001b[0m         \u001b[0mres\u001b[0m \u001b[1;33m=\u001b[0m \u001b[1;33m[\u001b[0m\u001b[1;33m]\u001b[0m\u001b[1;33m\u001b[0m\u001b[1;33m\u001b[0m\u001b[0m\n\u001b[0;32m      5\u001b[0m         \u001b[1;32mfor\u001b[0m \u001b[0mi\u001b[0m \u001b[1;32min\u001b[0m \u001b[0mnums\u001b[0m\u001b[1;33m:\u001b[0m\u001b[1;33m\u001b[0m\u001b[1;33m\u001b[0m\u001b[0m\n",
      "\u001b[1;32m<ipython-input-1-85a88add7203>\u001b[0m in \u001b[0;36mSolution\u001b[1;34m()\u001b[0m\n\u001b[0;32m      1\u001b[0m \u001b[1;32mclass\u001b[0m \u001b[0mSolution\u001b[0m\u001b[1;33m:\u001b[0m\u001b[1;33m\u001b[0m\u001b[1;33m\u001b[0m\u001b[0m\n\u001b[1;32m----> 2\u001b[1;33m     \u001b[1;32mdef\u001b[0m \u001b[0mfindDisappearedNumbers\u001b[0m\u001b[1;33m(\u001b[0m\u001b[0mself\u001b[0m\u001b[1;33m,\u001b[0m \u001b[0mnums\u001b[0m\u001b[1;33m:\u001b[0m \u001b[0mList\u001b[0m\u001b[1;33m[\u001b[0m\u001b[0mint\u001b[0m\u001b[1;33m]\u001b[0m\u001b[1;33m)\u001b[0m \u001b[1;33m->\u001b[0m \u001b[0mList\u001b[0m\u001b[1;33m[\u001b[0m\u001b[0mint\u001b[0m\u001b[1;33m]\u001b[0m\u001b[1;33m:\u001b[0m\u001b[1;33m\u001b[0m\u001b[1;33m\u001b[0m\u001b[0m\n\u001b[0m\u001b[0;32m      3\u001b[0m         \u001b[0mdicts\u001b[0m \u001b[1;33m=\u001b[0m \u001b[1;33m{\u001b[0m\u001b[0mv\u001b[0m \u001b[1;33m:\u001b[0m \u001b[1;36m0\u001b[0m \u001b[1;32mfor\u001b[0m \u001b[0mv\u001b[0m \u001b[1;32min\u001b[0m \u001b[0mrange\u001b[0m\u001b[1;33m(\u001b[0m\u001b[1;36m1\u001b[0m\u001b[1;33m,\u001b[0m \u001b[1;36m1\u001b[0m\u001b[1;33m+\u001b[0m\u001b[0mlen\u001b[0m\u001b[1;33m(\u001b[0m\u001b[0mnums\u001b[0m\u001b[1;33m)\u001b[0m\u001b[1;33m)\u001b[0m\u001b[1;33m}\u001b[0m\u001b[1;33m\u001b[0m\u001b[1;33m\u001b[0m\u001b[0m\n\u001b[0;32m      4\u001b[0m         \u001b[0mres\u001b[0m \u001b[1;33m=\u001b[0m \u001b[1;33m[\u001b[0m\u001b[1;33m]\u001b[0m\u001b[1;33m\u001b[0m\u001b[1;33m\u001b[0m\u001b[0m\n\u001b[0;32m      5\u001b[0m         \u001b[1;32mfor\u001b[0m \u001b[0mi\u001b[0m \u001b[1;32min\u001b[0m \u001b[0mnums\u001b[0m\u001b[1;33m:\u001b[0m\u001b[1;33m\u001b[0m\u001b[1;33m\u001b[0m\u001b[0m\n",
      "\u001b[1;31mNameError\u001b[0m: name 'List' is not defined"
     ]
    }
   ],
   "source": [
    "class Solution:\n",
    "    def findDisappearedNumbers(self, nums: List[int]) -> List[int]:\n",
    "        dicts = {v : 0 for v in range(1, 1+len(nums))}\n",
    "        res = []\n",
    "        for i in nums:\n",
    "            if i in dicts:\n",
    "                dicts[i] += 1\n",
    "        print(dicts)\n",
    "        for k, v in dicts.items():\n",
    "            if v == 0:\n",
    "                res.append(k)\n",
    "        return res"
   ]
  },
  {
   "cell_type": "markdown",
   "metadata": {},
   "source": [
    "给定一个二进制数组， 计算其中最大连续1的个数。<br>\n",
    "<br>\n",
    "示例 1:<br>\n",
    "<br>\n",
    "输入: [1,1,0,1,1,1]<br>\n",
    "输出: 3<br>\n",
    "解释: 开头的两位和最后的三位都是连续1，所以最大连续1的个数是 3.<br>\n",
    "<br>\n",
    "来源：力扣（LeetCode）<br>\n",
    "链接：https://leetcode-cn.com/problems/max-consecutive-ones<br>\n",
    "著作权归领扣网络所有。商业转载请联系官方授权，非商业转载请注明出处。<br>"
   ]
  },
  {
   "cell_type": "code",
   "execution_count": null,
   "metadata": {},
   "outputs": [],
   "source": [
    "class Solution:\n",
    "    def findMaxConsecutiveOnes(self, nums: List[int]) -> int:\n",
    "        count = max_count = 0\n",
    "        for num in nums:\n",
    "            if num == 1:\n",
    "                # Increment the count of 1's by one.\n",
    "                count += 1\n",
    "            else:\n",
    "                # Find the maximum till now.\n",
    "                max_count = max(max_count, count)\n",
    "                # Reset count of 1.\n",
    "                count = 0\n",
    "        return max(max_count, count)"
   ]
  },
  {
   "cell_type": "markdown",
   "metadata": {},
   "source": [
    "509. 斐波那契数<br>\n",
    "斐波那契数，通常用 F(n) 表示，形成的序列称为斐波那契数列。该数列由 0 和 1 开始，后面的每一项数字都是前面两项数字的和。也就是：<br>\n",
    "<br>\n",
    "F(0) = 0,   F(1) = 1<br>\n",
    "F(N) = F(N - 1) + F(N - 2), 其中 N > 1.<br>\n",
    "给定 N，计算 F(N)。<br>\n",
    "<br>\n",
    " <br>\n",
    "<br>\n",
    "示例 1：<br>\n",
    "<br>\n",
    "输入：2<br>\n",
    "输出：1<br>\n",
    "解释：F(2) = F(1) + F(0) = 1 + 0 = 1.<br>\n",
    "示例 2：<br>\n",
    "<br>\n",
    "输入：3<br>\n",
    "输出：2<br>\n",
    "解释：F(3) = F(2) + F(1) = 1 + 1 = 2.<br>\n",
    "示例 3：<br>\n",
    "<br>\n",
    "输入：4<br>\n",
    "输出：3<br>\n",
    "解释：F(4) = F(3) + F(2) = 2 + 1 = 3.<br>"
   ]
  },
  {
   "cell_type": "code",
   "execution_count": null,
   "metadata": {},
   "outputs": [],
   "source": [
    "class Solution:\n",
    "    def fib(self, N: int) -> int:\n",
    "        if N <= 1:\n",
    "            return N\n",
    "        else:\n",
    "            return self.fib(N-1) + self.fib(N-2)"
   ]
  },
  {
   "cell_type": "markdown",
   "metadata": {},
   "source": [
    "566. 重塑矩阵<br>\n",
    "在MATLAB中，有一个非常有用的函数 reshape，它可以将一个矩阵重塑为另一个大小不同的新矩阵，但保留其原始数据。<br>\n",
    "<br>\n",
    "给出一个由二维数组表示的矩阵，以及两个正整数r和c，分别表示想要的重构的矩阵的行数和列数。<br>\n",
    "<br>\n",
    "重构后的矩阵需要将原始矩阵的所有元素以相同的行遍历顺序填充。<br>\n",
    "<br>\n",
    "如果具有给定参数的reshape操作是可行且合理的，则输出新的重塑矩阵；否则，输出原始矩阵。<br>\n",
    "<br>\n",
    "示例 1:<br>\n",
    "<br>\n",
    "输入: <br>\n",
    "nums = <br>\n",
    "[[1,2],<br>\n",
    " [3,4]]<br>\n",
    "r = 1, c = 4<br>\n",
    "输出: <br>\n",
    "[[1,2,3,4]]<br>\n",
    "解释:<br>\n",
    "行遍历nums的结果是 [1,2,3,4]。新的矩阵是 1 * 4 矩阵, 用之前的元素值一行一行填充新矩阵。<br>\n",
    "示例 2:<br>\n",
    "<br>\n",
    "输入: <br>\n",
    "nums = <br>\n",
    "[[1,2],<br>\n",
    " [3,4]]<br>\n",
    "r = 2, c = 4<br>\n",
    "输出: <br>\n",
    "[[1,2],<br>\n",
    " [3,4]]<br>\n",
    "解释:<br>\n",
    "没有办法将 2 * 2 矩阵转化为 2 * 4 矩阵。 所以输出原矩阵。<br>"
   ]
  },
  {
   "cell_type": "code",
   "execution_count": null,
   "metadata": {},
   "outputs": [],
   "source": [
    "class Solution:\n",
    "    def matrixReshape(self, nums: List[List[int]], r: int, c: int) -> List[List[int]]:\n",
    "        import numpy as np \n",
    "        nums = np.array(nums)\n",
    "        if r * c == nums.shape[0] * nums.shape[1]: \n",
    "            return nums.reshape(r, c)\n",
    "        else:\n",
    "            return nums"
   ]
  },
  {
   "cell_type": "markdown",
   "metadata": {},
   "source": [
    "# 674. 最长连续递增序列\n",
    "给定一个未经排序的整数数组，找到最长且 连续递增的子序列，并返回该序列的长度。<br>\n",
    "<br>\n",
    "连续递增的子序列 可以由两个下标 l 和 r（l < r）确定，如果对于每个 l <= i < r，都有 nums[i] < nums[i + 1] ，那么子序列 [nums[l], nums[l + 1], ..., nums[r - 1], nums[r]] 就是连续递增子序列。\n",
    "<br>\n",
    " <br>\n",
    "<br>\n",
    "示例 1：<br>\n",
    "<br>\n",
    "输入：nums = [1,3,5,4,7]<br>\n",
    "输出：3<br>\n",
    "解释：最长连续递增序列是 [1,3,5], 长度为3。<br>\n",
    "尽管 [1,3,5,7] 也是升序的子序列, 但它不是连续的，因为 5 和 7 在原数组里被 4 隔开。 <br>\n",
    "示例 2：<br>\n",
    "<br>\n",
    "输入：nums = [2,2,2,2,2]<br>\n",
    "输出：1<br>\n",
    "解释：最长连续递增序列是 [2], 长度为1。<br>"
   ]
  },
  {
   "cell_type": "code",
   "execution_count": null,
   "metadata": {},
   "outputs": [],
   "source": [
    "class Solution:\n",
    "    def findLengthOfLCIS(self, nums: List[int]) -> int:\n",
    "        if not nums:\n",
    "            return 0\n",
    "        maxs = 1\n",
    "        i = 0 \n",
    "        while i < (len(nums)-1 ):\n",
    "            if nums[i] < nums[i+1]:\n",
    "                j = i \n",
    "                while (j<len(nums)-1) and (nums[j]<nums[j+1]):\n",
    "                    j += 1\n",
    "                if (j-i+1) > maxs:\n",
    "                    maxs = j-i + 1\n",
    "                i = j\n",
    "            i += 1\n",
    "        return maxs "
   ]
  },
  {
   "cell_type": "markdown",
   "metadata": {},
   "source": [
    "# <br>697. 数组的度\n",
    "给定一个非空且只包含非负数的整数数组 nums, 数组的度的定义是指数组里任一元素出现频数的最大值。<br>\n",
    "<br>\n",
    "你的任务是找到与 nums 拥有相同大小的度的最短连续子数组，返回其长度。<br>\n",
    "<br>\n",
    "示例 1:<br>\n",
    "<br>\n",
    "输入: [1, 2, 2, 3, 1]<br>\n",
    "输出: 2<br>\n",
    "解释: <br>\n",
    "输入数组的度是2，因为元素1和2的出现频数最大，均为2.<br>\n",
    "连续子数组里面拥有相同度的有如下所示:<br>\n",
    "[1, 2, 2, 3, 1], [1, 2, 2, 3], [2, 2, 3, 1], [1, 2, 2], [2, 2, 3], [2, 2]<br>\n",
    "最短连续子数组[2, 2]的长度为2，所以返回2.<br>\n",
    "示例 2:<br>\n",
    "<br>\n",
    "输入: [1,2,2,3,1,4,2]<br>\n",
    "输出: 6<br>\n",
    "注意:<br>\n",
    "<br>\n",
    "nums.length 在1到50,000区间范围内。<br>\n",
    "nums[i] 是一个在0到49,999范围内的整数。<br>"
   ]
  },
  {
   "cell_type": "code",
   "execution_count": null,
   "metadata": {},
   "outputs": [],
   "source": [
    "class Solution:\n",
    "    def findLengthOfLCIS(self, nums: List[int]) -> int:\n",
    "        if not nums:\n",
    "            return 0\n",
    "        maxs = 1\n",
    "        i = 0 \n",
    "        while i < (len(nums)-1 ):\n",
    "            if nums[i] < nums[i+1]:\n",
    "                j = i \n",
    "                while (j<len(nums)-1) and (nums[j]<nums[j+1]):\n",
    "                    j += 1\n",
    "                if (j-i+1) > maxs:\n",
    "                    maxs = j-i + 1\n",
    "                i = j\n",
    "            i += 1\n",
    "        return maxs "
   ]
  }
 ],
 "metadata": {
  "hide_input": false,
  "kernelspec": {
   "display_name": "Python 3",
   "language": "python",
   "name": "python3"
  },
  "language_info": {
   "codemirror_mode": {
    "name": "ipython",
    "version": 3
   },
   "file_extension": ".py",
   "mimetype": "text/x-python",
   "name": "python",
   "nbconvert_exporter": "python",
   "pygments_lexer": "ipython3",
   "version": "3.7.9"
  }
 },
 "nbformat": 4,
 "nbformat_minor": 4
}
