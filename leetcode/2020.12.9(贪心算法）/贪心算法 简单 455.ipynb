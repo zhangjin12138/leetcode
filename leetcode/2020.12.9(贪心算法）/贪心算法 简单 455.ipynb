{
 "cells": [
  {
   "cell_type": "markdown",
   "metadata": {},
   "source": [
    "# 455. 分发饼干\n",
    "假设你是一位很棒的家长，想要给你的孩子们一些小饼干。但是，每个孩子最多只能给一块饼干。<br>\n",
    "<br>\n",
    "对每个孩子 i，都有一个胃口值 g[i]，这是能让孩子们满足胃口的饼干的最小尺寸；并且每块饼干 j，都有一个尺寸 s[j] 。如果 s[j] >= <br>g[i]，我们可以将这个饼干 j 分配给孩子 i ，这个孩子会得到满足。你的目标是尽可能满足越多数量的孩子，并输出这个最大数值。<br>\n",
    "<br>\n",
    " <br>\n",
    "示例 1:<br>\n",
    "<br>\n",
    "输入: g = [1,2,3], s = [1,1]<br>\n",
    "输出: 1<br>\n",
    "解释: <br>\n",
    "你有三个孩子和两块小饼干，3个孩子的胃口值分别是：1,2,3。<br>\n",
    "虽然你有两块小饼干，由于他们的尺寸都是1，你只能让胃口值是1的孩子满足。<br>\n",
    "所以你应该输出1。<br>\n",
    "示例 2:<br>\n",
    "<br>\n",
    "输入: g = [1,2], s = [1,2,3]<br>\n",
    "输出: 2<br>\n",
    "解释: <br>\n",
    "你有两个孩子和三块小饼干，2个孩子的胃口值分别是1,2。<br>\n",
    "你拥有的饼干数量和尺寸都足以让所有孩子满足。<br>\n",
    "所以你应该输出2.<br>"
   ]
  },
  {
   "cell_type": "code",
   "execution_count": null,
   "metadata": {},
   "outputs": [],
   "source": [
    "class Solution:\n",
    "    def findContentChildren(self, g: List[int], s: List[int]) -> int:\n",
    "        s.sort()\n",
    "        g.sort()\n",
    "        kid = 0\n",
    "        for a in s:\n",
    "            if kid==len(g):\n",
    "                break\n",
    "            else:\n",
    "                if g[kid] <= a:\n",
    "                    kid += 1\n",
    "        return kid"
   ]
  }
 ],
 "metadata": {
  "hide_input": false,
  "kernelspec": {
   "display_name": "Python 3",
   "language": "python",
   "name": "python3"
  },
  "language_info": {
   "codemirror_mode": {
    "name": "ipython",
    "version": 3
   },
   "file_extension": ".py",
   "mimetype": "text/x-python",
   "name": "python",
   "nbconvert_exporter": "python",
   "pygments_lexer": "ipython3",
   "version": "3.7.9"
  }
 },
 "nbformat": 4,
 "nbformat_minor": 4
}
