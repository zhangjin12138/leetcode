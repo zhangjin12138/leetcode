{
 "cells": [
  {
   "cell_type": "markdown",
   "metadata": {},
   "source": [
    "# 303. 区域和检索 - 数组不可变"
   ]
  },
  {
   "cell_type": "markdown",
   "metadata": {},
   "source": [
    "给定一个整数数组  nums，求出数组从索引 i 到 j（i ≤ j）范围内元素的总和，包含 i、j 两点。<br><br>\n",
    "\n",
    "实现 NumArray 类：<br><br>\n",
    "\n",
    "NumArray(int[] nums) 使用数组 nums 初始化对象<br>\n",
    "int sumRange(int i, int j) 返回数组 nums 从索引 i 到 j（i ≤ j）范围内元素的总和，包含 i、j 两点（也就是 sum(nums[i], nums[i + 1], ... , nums[j])）\n",
    " \n",
    "\n",
    "示例：<br><br>\n",
    "\n",
    "输入：<br>\n",
    "[\"NumArray\", \"sumRange\", \"sumRange\", \"sumRange\"]<br>\n",
    "[[[-2, 0, 3, -5, 2, -1]], [0, 2], [2, 5], [0, 5]]<br>\n",
    "输出：<br>\n",
    "[null, 1, -1, -3]<br><br>\n",
    "\n",
    "解释：<br><br>\n",
    "NumArray numArray = new NumArray([-2, 0, 3, -5, 2, -1]);<br>\n",
    "numArray.sumRange(0, 2); // return 1 ((-2) + 0 + 3)<br>\n",
    "numArray.sumRange(2, 5); // return -1 (3 + (-5) + 2 + (-1)) <br>\n",
    "numArray.sumRange(0, 5); // return -3 ((-2) + 0 + 3 + (-5) + 2 + (-1))<br>\n",
    "<br>\n",
    "来源：力扣（LeetCode）<br>\n",
    "链接：https://leetcode-cn.com/problems/range-sum-query-immutable<br>\n",
    "著作权归领扣网络所有。商业转载请联系官方授权，非商业转载请注明出处。<br>"
   ]
  },
  {
   "cell_type": "code",
   "execution_count": null,
   "metadata": {},
   "outputs": [],
   "source": [
    "class NumArray:\n",
    "\n",
    "    def __init__(self, nums: List[int]):\n",
    "        self.nums = nums \n",
    "\n",
    "\n",
    "    def sumRange(self, i: int, j: int) -> int:\n",
    "        return sum(self.nums[i:j+1])\n"
   ]
  },
  {
   "cell_type": "markdown",
   "metadata": {},
   "source": [
    "# 392. 判断子序列"
   ]
  },
  {
   "cell_type": "markdown",
   "metadata": {},
   "source": [
    "给定字符串 s 和 t ，判断 s 是否为 t 的子序列。<br>\n",
    "\n",
    "你可以认为 s 和 t 中仅包含英文小写字母。字符串 t 可能会很长（长度 ~= 500,000），而 s 是个短字符串（长度 <=100）。<br>\n",
    "\n",
    "字符串的一个子序列是原始字符串删除一些（也可以不删除）字符而不改变剩余字符相对位置形成的新字符串。（例如，\"ace\"是\"abcde\"的一个子序列，而\"aec\"不是）。<br>\n",
    "\n",
    "示例 1:<br>\n",
    "s = \"abc\", t = \"ahbgdc\"<br><br>\n",
    "\n",
    "返回 true.<br><br>\n",
    "\n",
    "示例 2:<br>\n",
    "s = \"axc\", t = \"ahbgdc\"<br><br>\n",
    "\n",
    "返回 false.<br><br>\n",
    "\n",
    "\n",
    "\n",
    "来源：力扣（LeetCode）<br>\n",
    "链接：https://leetcode-cn.com/problems/is-subsequence<br>\n",
    "著作权归领扣网络所有。商业转载请联系官方授权，非商业转载请注明出处。<br>"
   ]
  },
  {
   "cell_type": "markdown",
   "metadata": {},
   "source": [
    "思路：判断如果s的某个在t中，找到下标tmp  让t = t[tmp+1:]\n",
    "找不到就return False"
   ]
  },
  {
   "cell_type": "code",
   "execution_count": null,
   "metadata": {},
   "outputs": [],
   "source": [
    "class Solution:\n",
    "    def isSubsequence(self, s: str, t: str) -> bool:\n",
    "        if not s:\n",
    "            return True\n",
    "        \n",
    "        for i in s:\n",
    "            if i in t:\n",
    "                tmp = t.index(i)\n",
    "                t = t[tmp+1:]\n",
    "            else:\n",
    "                return False\n",
    "        return True "
   ]
  },
  {
   "cell_type": "markdown",
   "metadata": {},
   "source": [
    "# 746. 使用最小花费爬楼梯"
   ]
  },
  {
   "cell_type": "markdown",
   "metadata": {},
   "source": [
    "数组的每个索引作为一个阶梯，第 i个阶梯对应着一个非负数的体力花费值 cost[i](索引从0开始)。<br><br>\n",
    "\n",
    "每当你爬上一个阶梯你都要花费对应的体力花费值，然后你可以选择继续爬一个阶梯或者爬两个阶梯。<br><br>\n",
    "\n",
    "您需要找到达到楼层顶部的最低花费。在开始时，你可以选择从索引为 0 或 1 的元素作为初始阶梯。<br><br>\n",
    "\n",
    "示例 1:<br><br>\n",
    "\n",
    "输入: cost = [10, 15, 20]<br>\n",
    "输出: 15<br>\n",
    "解释: 最低花费是从cost[1]开始，然后走两步即可到阶梯顶，一共花费15。<br>\n",
    " 示例 2:<br><br>\n",
    "\n",
    "输入: cost = [1, 100, 1, 1, 1, 100, 1, 1, 100, 1]<br>\n",
    "输出: 6<br>\n",
    "解释: 最低花费方式是从cost[0]开始，逐个经过那些1，跳过cost[3]，一共花费6。<br><br>\n",
    "\n",
    "来源：力扣（LeetCode）<br>\n",
    "链接：https://leetcode-cn.com/problems/min-cost-climbing-stairs<br>\n",
    "著作权归领扣网络所有。商业转载请联系官方授权，非商业转载请注明出处。<br>"
   ]
  },
  {
   "cell_type": "markdown",
   "metadata": {},
   "source": [
    "思路：本题无法直接找出全局最优，因此要利用动态规划逐步寻优。我们会发现这样一条规律：不论如何，到达每一个阶梯（索引）的最小体力消耗一定等于到达前两个阶梯的最小体力消耗加上本层体力消耗，于是乎可以写出状态转移方程：\n",
    "f(n) = min(f(n-1), f(n-2)) + cost[n]\n",
    "建立中间解的存储空间result，设置前两个阶梯的值，通过上式即可求得最小体力消耗。\n",
    "\n",
    "作者：yi-wen-statistics\n",
    "链接：https://leetcode-cn.com/problems/min-cost-climbing-stairs/solution/dong-tai-gui-hua-by-yi-wen-statistics-8/\n",
    "来源：力扣（LeetCode）\n",
    "著作权归作者所有。商业转载请联系作者获得授权，非商业转载请注明出处。"
   ]
  },
  {
   "cell_type": "code",
   "execution_count": null,
   "metadata": {},
   "outputs": [],
   "source": [
    "class Solution:\n",
    "    def minCostClimbingStairs(self, cost: List[int]) -> int:\n",
    "        result = [0 for i in range(len(cost))]\n",
    "        result[0] = cost[0]\n",
    "        result[1] = cost[1]\n",
    "        for j in range(2, len(result)):\n",
    "            result[j] = min(result[j-1], result[j-2]) + cost[j]\n",
    "        return min(result[-2], result[-1])\n"
   ]
  }
 ],
 "metadata": {
  "kernelspec": {
   "display_name": "Python 3",
   "language": "python",
   "name": "python3"
  },
  "language_info": {
   "codemirror_mode": {
    "name": "ipython",
    "version": 3
   },
   "file_extension": ".py",
   "mimetype": "text/x-python",
   "name": "python",
   "nbconvert_exporter": "python",
   "pygments_lexer": "ipython3",
   "version": "3.7.0"
  }
 },
 "nbformat": 4,
 "nbformat_minor": 2
}
