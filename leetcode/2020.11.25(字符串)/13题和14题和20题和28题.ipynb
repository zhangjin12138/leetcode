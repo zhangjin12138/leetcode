{
 "cells": [
  {
   "cell_type": "markdown",
   "metadata": {},
   "source": [
    "# 13. 罗马数字转整数\n",
    "罗马数字包含以下七种字符: I， V， X， L，C，D 和 M。<br><br><br>\n",
    "\n",
    "字符          数值<br>\n",
    "I             1<br>\n",
    "V             5<br>\n",
    "X             10<br>\n",
    "L             50<br>\n",
    "C             100<br>\n",
    "D             500<br>\n",
    "M             1000<br>\n",
    "例如， 罗马数字 2 写做 II ，即为两个并列的 1。12 写做 XII ，即为 X + II 。 27 写做  XXVII, 即为 XX + V + II <br><br>\n",
    "\n",
    "通常情况下，罗马数字中小的数字在大的数字的右边。但也存在特例，例如 4 不写做 IIII，而是 IV。数字 1 在数字 5 的左边，所表示的数等于大数 5 减小数 1 得到的数值 4 。同样地，数字 9 表示为 IX。这个特殊的规则只适用于以下六种情况：<br><br>\n",
    "\n",
    "I 可以放在 V (5) 和 X (10) 的左边，来表示 4 和 9。<br>\n",
    "X 可以放在 L (50) 和 C (100) 的左边，来表示 40 和 90。 <br>\n",
    "C 可以放在 D (500) 和 M (1000) 的左边，来表示 400 和 900。<br>\n",
    "给定一个罗马数字，将其转换成整数。输入确保在 1 到 3999 的范围内。<br>"
   ]
  },
  {
   "cell_type": "code",
   "execution_count": null,
   "metadata": {},
   "outputs": [],
   "source": [
    "class Solution:\n",
    "    def romanToInt(self, s: str) -> int:\n",
    "        d = {'I':1, 'IV':3, 'V':5, 'IX':8, 'X':10, 'XL':30, 'L':50, 'XC':80, 'C':100, 'CD':300, 'D':500, 'CM':800, 'M':1000}\n",
    "        return sum(d.get(s[max(i-1, 0):i+1], d[n]) for i, n in enumerate(s))\n"
   ]
  },
  {
   "cell_type": "markdown",
   "metadata": {},
   "source": [
    "# 14. 最长公共前缀\n",
    "编写一个函数来查找字符串数组中的最长公共前缀。<br><br>\n",
    "\n",
    "如果不存在公共前缀，返回空字符串 \"\"。<br><br>\n",
    "\n",
    "示例 1:<br><br>\n",
    "\n",
    "输入: [\"flower\",\"flow\",\"flight\"]<br>\n",
    "输出: \"fl\"<br>\n",
    "示例 2:<br><br>\n",
    "\n",
    "输入: [\"dog\",\"racecar\",\"car\"]<br>\n",
    "输出: \"\"<br>\n",
    "解释: 输入不存在公共前缀。<br>"
   ]
  },
  {
   "cell_type": "code",
   "execution_count": null,
   "metadata": {},
   "outputs": [],
   "source": [
    "class Solution:\n",
    "    def longestCommonPrefix(self, strs: List[str]) -> str:\n",
    "        if not strs:\n",
    "            return ''\n",
    "        s = ''\n",
    "        leng = min([len(i) for i in strs])\n",
    "        for i in range(leng):\n",
    "            if len(set([w[i] for w in strs])) == 1:\n",
    "                s += strs[0][i]\n",
    "            else:\n",
    "                break\n",
    "        return s "
   ]
  },
  {
   "cell_type": "markdown",
   "metadata": {
    "ExecuteTime": {
     "end_time": "2020-11-25T14:00:20.122394Z",
     "start_time": "2020-11-25T14:00:20.117888Z"
    }
   },
   "source": [
    "# 20. 有效的括号\n",
    "给定一个只包括 '('，')'，'{'，'}'，'['，']' 的字符串，判断字符串是否有效。<br>\n",
    "<br>\n",
    "有效字符串需满足：<br>\n",
    "<br>\n",
    "左括号必须用相同类型的右括号闭合。<br>\n",
    "左括号必须以正确的顺序闭合。<br>\n",
    "注意空字符串可被认为是有效字符串。<br>\n",
    "<br>\n",
    "示例 1:<br>\n",
    "<br>\n",
    "输入: \"()\"<br>\n",
    "输出: true<br>\n",
    "示例 2:<br>\n",
    "<br>\n",
    "输入: \"()[]{}\"<br>\n",
    "输出: true<br>\n",
    "示例 3:<br>\n",
    "<br>\n",
    "输入: \"(]\"<br>\n",
    "输出: false<br>\n",
    "示例 4:<br>\n",
    "<br>\n",
    "输入: \"([)]\"<br>\n",
    "输出: false<br>\n",
    "示例 5:<br>\n",
    "<br>\n",
    "输入: \"{[]}\"<br>\n",
    "输出: true<br>"
   ]
  },
  {
   "cell_type": "code",
   "execution_count": null,
   "metadata": {},
   "outputs": [],
   "source": [
    "class Solution:\n",
    "    def isValid(self, s: str) -> bool:\n",
    "        if not s:\n",
    "            return True \n",
    "        if len(s) == 1:\n",
    "            return False \n",
    "        if s[0] in [')', '}', ']']:\n",
    "            return False\n",
    "\n",
    "        t = []\n",
    "        t.append(s[0])\n",
    "\n",
    "        for i in range(1, len(s)):\n",
    "            if s[i] in '({[':\n",
    "                t.append(s[i])\n",
    "\n",
    "            if s[i] == ')':\n",
    "                if len(t) == 0:\n",
    "                    return False \n",
    "                if t[-1] == '(':\n",
    "                    t.pop()\n",
    "                else:\n",
    "                    return False \n",
    "\n",
    "            if s[i] == ']':\n",
    "                if len(t) == 0:\n",
    "                    return False \n",
    "                if t[-1] == '[':\n",
    "                    t.pop()\n",
    "                else:\n",
    "                    return False \n",
    "\n",
    "            if s[i] == '}':\n",
    "                if len(t) == 0:\n",
    "                    return False \n",
    "                if t[-1] == '{':\n",
    "                    t.pop()\n",
    "                else:\n",
    "                    return False \n",
    "\n",
    "        return (len(t) == 0 )"
   ]
  },
  {
   "cell_type": "markdown",
   "metadata": {},
   "source": [
    "# 28. 实现 strStr()\n",
    "实现 strStr() 函数。<br>\n",
    "<br>\n",
    "给定一个 haystack 字符串和一个 needle 字符串，在 haystack 字符串中找出 needle 字符串出现的第一个位置 (从0开始)。如果不存在，则返回  -1。<br>\n",
    "<br>\n",
    "示例 1:\n",
    "<br>\n",
    "输入: haystack = \"hello\", needle = \"ll\"<br>\n",
    "输出: 2<br>\n",
    "示例 2:<br>\n",
    "<br>\n",
    "输入: haystack = \"aaaaa\", needle = \"bba\"<br>\n",
    "输出: -1<br>"
   ]
  },
  {
   "cell_type": "code",
   "execution_count": null,
   "metadata": {},
   "outputs": [],
   "source": [
    "class Solution:\n",
    "    def strStr(self, haystack: str, needle: str) -> int:\n",
    "        if len(haystack) == 0 and len(needle) == 0:\n",
    "            return 0\n",
    "\n",
    "        if not haystack:\n",
    "            return -1\n",
    "        \n",
    "        if len(needle) == 0:\n",
    "            return 0\n",
    "        \n",
    "        if needle[0] not in haystack:\n",
    "            return -1\n",
    "\n",
    "        if needle == haystack:\n",
    "            return  0\n",
    "\n",
    "        for i in range(0, len(haystack) - len(needle)+1):\n",
    "            if haystack[i:i+len(needle)] == needle:\n",
    "                return  i \n",
    "        return -1 "
   ]
  }
 ],
 "metadata": {
  "kernelspec": {
   "display_name": "Python 3",
   "language": "python",
   "name": "python3"
  },
  "language_info": {
   "codemirror_mode": {
    "name": "ipython",
    "version": 3
   },
   "file_extension": ".py",
   "mimetype": "text/x-python",
   "name": "python",
   "nbconvert_exporter": "python",
   "pygments_lexer": "ipython3",
   "version": "3.7.0"
  }
 },
 "nbformat": 4,
 "nbformat_minor": 2
}
