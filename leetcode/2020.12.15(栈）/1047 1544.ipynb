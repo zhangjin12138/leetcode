{
 "cells": [
  {
   "cell_type": "markdown",
   "metadata": {},
   "source": [
    "# 1047. 删除字符串中的所有相邻重复项\n",
    "<br>给出由小写字母组成的字符串 S，重复项删除操作会选择两个相邻且相同的字母，并删除它们。\n",
    "<br>\n",
    "<br>在 S 上反复执行重复项删除操作，直到无法继续删除。\n",
    "<br>\n",
    "<br>在完成所有重复项删除操作后返回最终的字符串。答案保证唯一。\n",
    "<br>\n",
    "<br> \n",
    "<br>\n",
    "<br>示例：\n",
    "<br>\n",
    "<br>输入：\"abbaca\"\n",
    "<br>输出：\"ca\"\n",
    "<br>解释：\n",
    "<br>例如，在 \"abbaca\" 中，我们可以删除 \"bb\" 由于两字母相邻且相同，这是此时唯一可以执行删除操作的重复项。之后我们得到字符串 \"aaca\"，其<br>中又只有 \"aa\" 可以执行重复项删除操作，所以最后的字符串为 \"ca\"。<br>"
   ]
  },
  {
   "cell_type": "code",
   "execution_count": null,
   "metadata": {},
   "outputs": [],
   "source": [
    "class Solution:\n",
    "    def removeDuplicates(self, S: str) -> str:\n",
    "        duplicates = {2 * ch for ch in ascii_lowercase}\n",
    "        \n",
    "        prev_length = -1\n",
    "        while prev_length != len(S):\n",
    "            prev_length = len(S)\n",
    "            for d in duplicates:\n",
    "                S = S.replace(d, '')\n",
    "                \n",
    "        return S"
   ]
  },
  {
   "cell_type": "markdown",
   "metadata": {},
   "source": [
    "# 1544. 整理字符串\n",
    "<br>给你一个由大小写英文字母组成的字符串 s 。\n",
    "<br>\n",
    "<br>一个整理好的字符串中，两个相邻字符 s[i] 和 s[i+1]，其中 0<= i <= s.length-2 ，要满足如下条件:\n",
    "<br>\n",
    "<br>若 s[i] 是小写字符，则 s[i+1] 不可以是相同的大写字符。\n",
    "<br>若 s[i] 是大写字符，则 s[i+1] 不可以是相同的小写字符。\n",
    "<br>请你将字符串整理好，每次你都可以从字符串中选出满足上述条件的 两个相邻 字符并删除，直到字符串整理好为止。\n",
    "<br>\n",
    "<br>请返回整理好的 字符串 。题目保证在给出的约束条件下，测试样例对应的答案是唯一的。\n",
    "<br>\n",
    "<br>注意：空字符串也属于整理好的字符串，尽管其中没有任何字符。\n",
    "<br>\n",
    "<br> \n",
    "<br>\n",
    "<br>示例 1：\n",
    "<br>\n",
    "<br>输入：s = \"leEeetcode\"\n",
    "<br>输出：\"leetcode\"\n",
    "<br>解释：无论你第一次选的是 i = 1 还是 i = 2，都会使 \"leEeetcode\" 缩减为 \"leetcode\" 。\n",
    "<br>示例 2：\n",
    "<br>\n",
    "<br>输入：s = \"abBAcC\"\n",
    "<br>输出：\"\"\n",
    "<br>解释：存在多种不同情况，但所有的情况都会导致相同的结果。例如：\n",
    "<br>\"abBAcC\" --> \"aAcC\" --> \"cC\" --> \"\"\n",
    "<br>\"abBAcC\" --> \"abBA\" --> \"aA\" --> \"\"\n",
    "<br>示例 3：\n",
    "<br>\n",
    "<br>输入：s = \"s\"\n",
    "<br>输出：\"s\""
   ]
  },
  {
   "cell_type": "code",
   "execution_count": null,
   "metadata": {},
   "outputs": [],
   "source": [
    "class Solution:\n",
    "    def makeGood(self, s: str) -> str:\n",
    "        a = [s[0]] \n",
    "        big = 'QWERTYUIOPLKJHGFDSAZXCVBNM'\n",
    "        SMALL = 'qwertyuiopasdfghjklzxcvbnm'\n",
    "\n",
    "        for i in range(1, len(s)):\n",
    "            if len(a) == 0:\n",
    "                a.append(s[i])\n",
    "            else:\n",
    "                if (s[i] in big) and (a[-1] in SMALL) and (s[i].lower() == a[-1]):\n",
    "                    a.pop()\n",
    "                elif (s[i] in SMALL) and (a[-1] in big) and (s[i] == a[-1].lower()):\n",
    "                    a.pop()\n",
    "                else:\n",
    "                    a.append(s[i])\n",
    "            print(a)\n",
    "        return ''.join(a)"
   ]
  }
 ],
 "metadata": {
  "hide_input": false,
  "kernelspec": {
   "display_name": "Python 3",
   "language": "python",
   "name": "python3"
  },
  "language_info": {
   "codemirror_mode": {
    "name": "ipython",
    "version": 3
   },
   "file_extension": ".py",
   "mimetype": "text/x-python",
   "name": "python",
   "nbconvert_exporter": "python",
   "pygments_lexer": "ipython3",
   "version": "3.7.9"
  }
 },
 "nbformat": 4,
 "nbformat_minor": 4
}
