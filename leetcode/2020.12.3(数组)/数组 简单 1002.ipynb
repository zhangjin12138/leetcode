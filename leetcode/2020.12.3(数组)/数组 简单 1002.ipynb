{
 "cells": [
  {
   "cell_type": "markdown",
   "metadata": {},
   "source": [
    "# 1002. 查找常用字符\n",
    "给定仅有小写字母组成的字符串数组 A，返回列表中的每个字符串中都显示的全部字符（包括重复字符）组成的列表。例如，如果一个字符在每个字符串中出现 3 次，但不是 4 次，则需要在最终答案中包含该字符 3 次。<br>\n",
    "<br>\n",
    "你可以按任意顺序返回答案。<br>\n",
    "<br>\n",
    " <br>\n",
    "<br>\n",
    "示例 1：<br>\n",
    "<br>\n",
    "输入：[\"bella\",\"label\",\"roller\"]<br>\n",
    "输出：[\"e\",\"l\",\"l\"]<br>\n",
    "示例 2：<br>\n",
    "<br>\n",
    "输入：[\"cool\",\"lock\",\"cook\"]<br>\n",
    "输出：[\"c\",\"o\"]<br>\n",
    " \n",
    "<br>\n",
    "提示：<br>\n",
    "<br>\n",
    "1 <= A.length <= 100<br>\n",
    "1 <= A[i].length <= 100<br>\n",
    "A[i][j] 是小写字母<br>\n",
    "通过次数46,818提交次数62,940<br>\n",
    "在真实的面试中遇到过这道题？<br>"
   ]
  },
  {
   "cell_type": "code",
   "execution_count": null,
   "metadata": {},
   "outputs": [],
   "source": [
    "class Solution:\n",
    "    def commonChars(self, A: List[str]) -> List[str]:\n",
    "        tmp = A[0]\n",
    "        for i in range(1, len(A)):\n",
    "            tmp = set(tmp) & set(A[i])\n",
    "\n",
    "\n",
    "        tmp = ''.join(tmp)\n",
    "        s = ''\n",
    "        for i in tmp: # e l \n",
    "            min_i = 99999\n",
    "            for j in A:\n",
    "                count = 0\n",
    "                for k in j:\n",
    "                    if k == i:\n",
    "                        count += 1\n",
    "                if count < min_i:\n",
    "                    min_i = count\n",
    "            s  = s + i*min_i\n",
    "        return list(s)"
   ]
  },
  {
   "cell_type": "code",
   "execution_count": null,
   "metadata": {},
   "outputs": [],
   "source": []
  }
 ],
 "metadata": {
  "kernelspec": {
   "display_name": "Python 3",
   "language": "python",
   "name": "python3"
  },
  "language_info": {
   "codemirror_mode": {
    "name": "ipython",
    "version": 3
   },
   "file_extension": ".py",
   "mimetype": "text/x-python",
   "name": "python",
   "nbconvert_exporter": "python",
   "pygments_lexer": "ipython3",
   "version": "3.7.0"
  }
 },
 "nbformat": 4,
 "nbformat_minor": 2
}
