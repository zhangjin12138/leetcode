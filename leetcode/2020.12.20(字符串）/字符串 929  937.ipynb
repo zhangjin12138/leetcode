{
 "cells": [
  {
   "cell_type": "markdown",
   "metadata": {},
   "source": [
    "929 https://leetcode-cn.com/problems/unique-email-addresses/"
   ]
  },
  {
   "cell_type": "code",
   "execution_count": null,
   "metadata": {},
   "outputs": [],
   "source": [
    "class Solution:\n",
    "    def numUniqueEmails(self, emails: List[str]) -> int:\n",
    "        k = []\n",
    "        for i in emails:\n",
    "            local = i.split('@')[0]\n",
    "            dom = i.split('@')[1]\n",
    "            local = local.replace('.', '')\n",
    "            if '+' in local:\n",
    "                local = local.split('+')[0]\n",
    "            k.append(local+'@'+dom)\n",
    "        return len(set(k))"
   ]
  },
  {
   "cell_type": "markdown",
   "metadata": {},
   "source": [
    "937 https://leetcode-cn.com/problems/reorder-data-in-log-files/"
   ]
  },
  {
   "cell_type": "code",
   "execution_count": null,
   "metadata": {},
   "outputs": [],
   "source": [
    "class Solution:\n",
    "    def reorderLogFiles(self, logs: List[str]) -> List[str]:\n",
    "        def f(log):\n",
    "            idx,content=log.split(' ',1)\n",
    "            return (0,content,idx) if content[0].isalpha() else (1,)#这个0太精髓，前后呼应，让所有字母的在前\n",
    "\n",
    "        return sorted(logs,key=f)\n",
    "\n"
   ]
  },
  {
   "cell_type": "code",
   "execution_count": null,
   "metadata": {},
   "outputs": [],
   "source": []
  },
  {
   "cell_type": "code",
   "execution_count": null,
   "metadata": {},
   "outputs": [],
   "source": []
  }
 ],
 "metadata": {
  "kernelspec": {
   "display_name": "Python 3",
   "language": "python",
   "name": "python3"
  },
  "language_info": {
   "codemirror_mode": {
    "name": "ipython",
    "version": 3
   },
   "file_extension": ".py",
   "mimetype": "text/x-python",
   "name": "python",
   "nbconvert_exporter": "python",
   "pygments_lexer": "ipython3",
   "version": "3.8.5"
  }
 },
 "nbformat": 4,
 "nbformat_minor": 4
}
