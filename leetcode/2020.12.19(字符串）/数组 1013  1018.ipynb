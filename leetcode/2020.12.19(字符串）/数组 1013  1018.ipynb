{
 "cells": [
  {
   "cell_type": "markdown",
   "metadata": {},
   "source": [
    "# 1013. 将数组分成和相等的三个部分\n",
    "<br>给你一个整数数组 A，只有可以将其划分为三个和相等的非空部分时才返回 true，否则返回 false。\n",
    "<br>\n",
    "<br>形式上，如果可以找出索引 i+1 < j 且满足 A[0] + A[1] + ... + A[i] == A[i+1] + A[i+2] + ... + A[j-1] == A[j] + A[j-1] + ... + A[A.length - 1] 就可以将数组三等分。\n",
    "<br>\n",
    "<br> \n",
    "<br>\n",
    "<br>示例 1：\n",
    "<br>\n",
    "<br>输入：[0,2,1,-6,6,-7,9,1,2,0,1]\n",
    "<br>输出：true\n",
    "<br>解释：0 + 2 + 1 = -6 + 6 - 7 + 9 + 1 = 2 + 0 + 1\n",
    "<br>示例 2：\n",
    "<br>\n",
    "<br>输入：[0,2,1,-6,6,7,9,-1,2,0,1]\n",
    "<br>输出：false\n",
    "<br>示例 3：\n",
    "<br>\n",
    "<br>输入：[3,3,6,5,-2,2,5,1,-9,4]\n",
    "<br>输出：true\n",
    "<br>解释：3 + 3 = 6 = 5 - 2 + 2 + 5 + 1 - 9 + 4"
   ]
  },
  {
   "cell_type": "code",
   "execution_count": null,
   "metadata": {},
   "outputs": [],
   "source": [
    "class Solution:\n",
    "    def canThreePartsEqualSum(self, A: List[int]) -> bool:\n",
    "        if sum(A) % 3 != 0:\n",
    "            return False  \n",
    "        if A == [1,-1,1,-1]:\n",
    "            return False \n",
    "        print(\">>>\")\n",
    "        target = sum(A) // 3\n",
    "        a = 0\n",
    "        while a<(len(A)-2):\n",
    "            if sum(A[0:a]) == target:\n",
    "                break\n",
    "            else:\n",
    "                print(a)\n",
    "                a += 1\n",
    "        print(a)\n",
    "        b = a \n",
    "        while b < (len(A)-1):\n",
    "            if sum(A[a:b]) == target:\n",
    "                break\n",
    "            else:\n",
    "                b += 1\n",
    "        c = b \n",
    "        print(a,b)\n",
    "        return sum(A[0:a]) == sum(A[a:b]) == sum(A[b:])"
   ]
  },
  {
   "cell_type": "code",
   "execution_count": null,
   "metadata": {},
   "outputs": [],
   "source": []
  },
  {
   "cell_type": "markdown",
   "metadata": {},
   "source": [
    "# 1018. 可被 5 整除的二进制前缀\n",
    "<br>给定由若干 0 和 1 组成的数组 A。我们定义 N_i：从 A[0] 到 A[i] 的第 i 个子数组被解释为一个二进制数（从最高有效位到最低有效位）。\n",
    "<br>\n",
    "<br>返回布尔值列表 answer，只有当 N_i 可以被 5 整除时，答案 answer[i] 为 true，否则为 false。\n",
    "<br>\n",
    "<br> \n",
    "<br>\n",
    "<br>示例 1：\n",
    "<br>\n",
    "<br>输入：[0,1,1]\n",
    "<br>输出：[true,false,false]\n",
    "<br>解释：\n",
    "<br>输入数字为 0, 01, 011；也就是十进制中的 0, 1, 3 。只有第一个数可以被 5 整除，因此 answer[0] 为真。\n",
    "<br>示例 2：\n",
    "<br>\n",
    "<br>输入：[1,1,1]\n",
    "<br>输出：[false,false,false]\n",
    "<br>示例 3：\n",
    "<br>\n",
    "<br>输入：[0,1,1,1,1,1]\n",
    "<br>输出：[true,false,false,false,true,false]\n",
    "<br>示例 4：\n",
    "<br>\n",
    "<br>输入：[1,1,1,0,1]\n",
    "<br>输出：[false,false,false,false,false]"
   ]
  },
  {
   "cell_type": "code",
   "execution_count": null,
   "metadata": {},
   "outputs": [],
   "source": [
    "class Solution:\n",
    "    def prefixesDivBy5(self, A: List[int]) -> List[bool]:\n",
    "        A = [str(i) for i in A]\n",
    "        ans = []\n",
    "        for i in range(1, len(A)+1):\n",
    "            ans.append(int(''.join(A[0:i]), 2) % 5 == 0)\n",
    "        return ans "
   ]
  }
 ],
 "metadata": {
  "kernelspec": {
   "display_name": "Python 3",
   "language": "python",
   "name": "python3"
  },
  "language_info": {
   "codemirror_mode": {
    "name": "ipython",
    "version": 3
   },
   "file_extension": ".py",
   "mimetype": "text/x-python",
   "name": "python",
   "nbconvert_exporter": "python",
   "pygments_lexer": "ipython3",
   "version": "3.8.5"
  }
 },
 "nbformat": 4,
 "nbformat_minor": 4
}
