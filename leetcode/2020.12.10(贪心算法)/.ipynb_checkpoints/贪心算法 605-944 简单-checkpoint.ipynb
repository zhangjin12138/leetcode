{
 "cells": [
  {
   "cell_type": "markdown",
   "metadata": {},
   "source": [
    "# 605. 种花问题\n",
    "假设你有一个很长的花坛，一部分地块种植了花，另一部分却没有。可是，花卉不能种植在相邻的地块上，它们会争夺水源，两者都会死去。<br>\n",
    "<br>\n",
    "给定一个花坛（表示为一个数组包含0和1，其中0表示没种植花，1表示种植了花），和一个数 n 。<br>\n",
    "<br>能否在不打破种植规则的情况下种入 n 朵花？能则返回True，不能则返回False。<br>\n",
    "<br>\n",
    "示例 1:<br>\n",
    "<br>\n",
    "输入: flowerbed = [1,0,0,0,1], n = 1<br>\n",
    "输出: True<br>\n",
    "示例 2:<br>\n",
    "<br>\n",
    "输入: flowerbed = [1,0,0,0,1], n = 2<br>\n",
    "输出: False<br>"
   ]
  },
  {
   "cell_type": "code",
   "execution_count": null,
   "metadata": {},
   "outputs": [],
   "source": [
    "class Solution:\n",
    "    def canPlaceFlowers(self, flowerbed: List[int], n: int) -> bool:\n",
    "        flowerbed = [0]+ flowerbed\n",
    "        flowerbed = flowerbed+[0]\n",
    "        for i in range(1,len(flowerbed)-1):\n",
    "            if  flowerbed[i-1] == 0 and flowerbed[i] == 0 and flowerbed[i+1] == 0:\n",
    "                n = n-1\n",
    "                flowerbed[i] = 1\n",
    "        return n<=0\n",
    "        "
   ]
  },
  {
   "cell_type": "markdown",
   "metadata": {},
   "source": [
    "# 860. 柠檬水找零\n",
    "在柠檬水摊上，每一杯柠檬水的售价为 5 美元。<br>\n",
    "<br>\n",
    "顾客排队购买你的产品，（按账单 bills 支付的顺序）一次购买一杯。<br>\n",
    "<br>\n",
    "每位顾客只买一杯柠檬水，然后向你付 5 美元、10 美元或 20 美元。你必须给每个顾客正确找零，也就是说净交易是每位顾客向你支付 5 美元。<br>\n",
    "<br>\n",
    "注意，一开始你手头没有任何零钱。<br>\n",
    "<br>\n",
    "如果你能给每位顾客正确找零，返回 true ，否则返回 false 。<br>\n",
    "<br>\n",
    "示例 1：<br>\n",
    "<br>\n",
    "输入：[5,5,5,10,20]<br>\n",
    "输出：true<br>\n",
    "解释：<br>\n",
    "前 3 位顾客那里，我们按顺序收取 3 张 5 美元的钞票。<br>\n",
    "第 4 位顾客那里，我们收取一张 10 美元的钞票，并返还 5 美元。<br>\n",
    "第 5 位顾客那里，我们找还一张 10 美元的钞票和一张 5 美元的钞票。<br>\n",
    "由于所有客户都得到了正确的找零，所以我们输出 true。<br>"
   ]
  },
  {
   "cell_type": "code",
   "execution_count": null,
   "metadata": {},
   "outputs": [],
   "source": [
    "class Solution:\n",
    "    def lemonadeChange(self, bills: List[int]) -> bool:\n",
    "        five = 0\n",
    "        ten = 0\n",
    "        twenty = 0\n",
    "\n",
    "        for i in bills:\n",
    "            if i == 5:\n",
    "                five += 1\n",
    "            elif i == 10:\n",
    "                five -= 1\n",
    "                if five < 0:\n",
    "                    return False \n",
    "                ten += 1\n",
    "            else:\n",
    "                if ((five >= 1) and (ten >=1)):\n",
    "                    twenty += 1\n",
    "                    five -= 1\n",
    "                    ten -= 1\n",
    "                elif (five >= 3):\n",
    "                    twenty += 1\n",
    "                    five -= 3\n",
    "                else:\n",
    "                    return False \n",
    "        return True \n",
    "\n",
    "                    "
   ]
  },
  {
   "cell_type": "markdown",
   "metadata": {},
   "source": [
    "# 944. 删列造序\n",
    "给定由 N 个小写字母字符串组成的数组 A，其中每个字符串长度相等。<br>\n",
    "<br>\n",
    "你需要选出一组要删掉的列 D，对 A 执行删除操作，使 A 中剩余的每一列都是 非降序 排列的，然后请你返回 D.length 的最小可能值。<br>\n",
    "<br>\n",
    "<br>删除 操作的定义是：选出一组要删掉的列，删去 A 中对应列中的所有字符，形式上，第 n 列为 [A[0][n], A[1][n], ..., A[A.length-1][n]]）。（可以参见 删除操作范例）\n",
    "<br>\n",
    " <br>\n",
    "<br>\n",
    "示例 1：<br>\n",
    "<br>\n",
    "输入：[\"cba\", \"daf\", \"ghi\"]<br>\n",
    "输出：1<br>\n",
    "解释：<br>\n",
    "当选择 D = {1}，删除后 A 的列为：[\"c\",\"d\",\"g\"] 和 [\"a\",\"f\",\"i\"]，均为非降序排列。<br>\n",
    "若选择 D = {}，那么 A 的列 [\"b\",\"a\",\"h\"] 就不是非降序排列了。<br>\n",
    "示例 2：<br>\n",
    "<br>\n",
    "输入：[\"a\", \"b\"]<br>\n",
    "输出：0<br>\n",
    "解释：D = {}<br>\n",
    "示例 3：<br>\n",
    "<br>\n",
    "输入：[\"zyx\", \"wvu\", \"tsr\"]<br>\n",
    "输出：3<br>\n",
    "解释：D = {0, 1, 2}<br>"
   ]
  },
  {
   "cell_type": "code",
   "execution_count": null,
   "metadata": {},
   "outputs": [],
   "source": [
    "class Solution:\n",
    "    def minDeletionSize(self, A: List[str]) -> int:\n",
    "        ans = 0\n",
    "        for col in zip(*A):\n",
    "            if any(col[i] > col[i+1] for i in range(len(col) - 1)):\n",
    "                ans += 1\n",
    "        return ans\n",
    "\n"
   ]
  }
 ],
 "metadata": {
  "hide_input": false,
  "kernelspec": {
   "display_name": "Python 3",
   "language": "python",
   "name": "python3"
  },
  "language_info": {
   "codemirror_mode": {
    "name": "ipython",
    "version": 3
   },
   "file_extension": ".py",
   "mimetype": "text/x-python",
   "name": "python",
   "nbconvert_exporter": "python",
   "pygments_lexer": "ipython3",
   "version": "3.7.9"
  }
 },
 "nbformat": 4,
 "nbformat_minor": 4
}
