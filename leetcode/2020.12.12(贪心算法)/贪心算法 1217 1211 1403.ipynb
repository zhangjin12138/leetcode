{
 "cells": [
  {
   "cell_type": "markdown",
   "metadata": {},
   "source": [
    "# <br>1217. 玩筹码\n",
    "数轴上放置了一些筹码，每个筹码的位置存在数组 chips 当中。<br>\n",
    "<br>\n",
    "你可以对 任何筹码 执行下面两种操作之一（不限操作次数，0 次也可以）：<br>\n",
    "<br>\n",
    "将第 i 个筹码向左或者右移动 2 个单位，代价为 0。<br>\n",
    "将第 i 个筹码向左或者右移动 1 个单位，代价为 1。\n",
    "最开始的时候，同一位置上也可能放着两个或者更多的筹码。<br>\n",
    "<br>\n",
    "返回将所有筹码移动到同一位置（任意位置）上所需要的最小代价。<br>\n",
    "<br>\n",
    " <br>\n",
    "<br>\n",
    "示例 1：<br>\n",
    "<br>\n",
    "输入：chips = [1,2,3]<br>\n",
    "输出：1<br>\n",
    "解释：第二个筹码移动到位置三的代价是 1，第一个筹码移动到位置三的代价是 0，总代价为 1。<br>\n",
    "示例 2：<br>\n",
    "<br>\n",
    "输入：chips = [2,2,2,3,3]<br>\n",
    "输出：2<br>\n",
    "解释：第四和第五个筹码移动到位置二的代价都是 1，所以最小总代价为 2。<br>\n",
    " <br>\n",
    "<br>\n",
    "提示：<br>\n",
    "<br>\n",
    "1 <= chips.length <= 100<br>\n",
    "1 <= chips[i] <= 10^9<br>"
   ]
  },
  {
   "cell_type": "code",
   "execution_count": null,
   "metadata": {},
   "outputs": [],
   "source": [
    "class Solution:\n",
    "    def minCostToMoveChips(self, position: List[int]) -> int:\n",
    "        odd = sum(i%2 for i in position)\n",
    "        return min(odd, len(position)-odd)"
   ]
  },
  {
   "cell_type": "markdown",
   "metadata": {},
   "source": [
    "# <br>1221. 分割平衡字符串\n",
    "在一个「平衡字符串」中，'L' 和 'R' 字符的数量是相同的。<br>\n",
    "<br>\n",
    "给出一个平衡字符串 s，请你将它分割成尽可能多的平衡字符串。<br>\n",
    "<br>\n",
    "返回可以通过分割得到的平衡字符串的最大数量。<br>\n",
    "<br>\n",
    " <br>\n",
    "<br>\n",
    "示例 1：<br>\n",
    "<br>\n",
    "输入：s = \"RLRRLLRLRL\"<br>\n",
    "输出：4<br>\n",
    "解释：s 可以分割为 \"RL\", \"RRLL\", \"RL\", \"RL\", 每个子字符串中都包含相同数量的 'L' 和 'R'。<br>\n",
    "示例 2：<br>\n",
    "<br>\n",
    "输入：s = \"RLLLLRRRLR\"<br>\n",
    "输出：3<br>\n",
    "解释：s 可以分割为 \"RL\", \"LLLRRR\", \"LR\", 每个子字符串中都包含相同数量的 'L' 和 'R'。<br>\n",
    "示例 3：<br>\n",
    "<br>\n",
    "输入：s = \"LLLLRRRR\"<br>\n",
    "输出：1<br>\n",
    "解释：s 只能保持原样 \"LLLLRRRR\".<br>"
   ]
  },
  {
   "cell_type": "code",
   "execution_count": null,
   "metadata": {},
   "outputs": [],
   "source": [
    "class Solution:\n",
    "    def balancedStringSplit(self, s: str) -> int:\n",
    "        res = 0\n",
    "        state = 0\n",
    "        for i in s:\n",
    "            if i == 'R':\n",
    "                state+=1\n",
    "            else:\n",
    "                state-=1\n",
    "            if state==0:\n",
    "                res +=1\n",
    "        return res\n",
    "\n"
   ]
  },
  {
   "cell_type": "markdown",
   "metadata": {},
   "source": [
    "# <br>1403. 非递增顺序的最小子序列\n",
    "给你一个数组 nums，请你从中抽取一个子序列，满足该子序列的元素之和 严格 大于未包含在该子序列中的各元素之和。<br>\n",
    "<br>\n",
    "如果存在多个解决方案，只需返回 长度最小 的子序列。如果仍然有多个解决方案，则返回 元素之和最大 的子序列。<br>\n",
    "<br>\n",
    "与子数组不同的地方在于，「数组的子序列」不强调元素在原数组中的连续性，也就是说，它可以通过从数组中分离一些（也可能不分离）元素得到。<br>\n",
    "<br>\n",
    "注意，题目数据保证满足所有约束条件的解决方案是 唯一 的。同时，返回的答案应当按 非递增顺序 排列。<br>\n",
    "<br>\n",
    " <br>\n",
    "<br>\n",
    "示例 1：<br>\n",
    "<br>\n",
    "输入：nums = [4,3,10,9,8]<br>\n",
    "输出：[10,9] <br>\n",
    "解释：子序列 [10,9] 和 [10,8] 是最小的、满足元素之和大于其他各元素之和的子序列。但是 [10,9] 的元素之和最大。 <br>\n",
    "示例 2：<br>\n",
    "<br>\n",
    "输入：nums = [4,4,7,6,7]<br>\n",
    "输出：[7,7,6] <br>\n",
    "<br>解释：子序列 [7,7] 的和为 14 ，不严格大于剩下的其他元素之和（14 = 4 + 4 + 6）。因此，[7,6,7] 是满足题意的最小子序列。注意，元素按非递增顺序返回。  \n",
    "示例 3：<br>\n",
    "<br>\n",
    "输入：nums = [6]<br>\n",
    "输出：[6]<br>"
   ]
  },
  {
   "cell_type": "code",
   "execution_count": null,
   "metadata": {},
   "outputs": [],
   "source": [
    "class Solution:\n",
    "    def minSubsequence(self, nums: List[int]) -> List[int]:\n",
    "        nums = sorted(nums)\n",
    "        man = len(nums)\n",
    "\n",
    "        for i in range(man-1, -1, -1):\n",
    "            if sum(nums[i:]) > sum(nums[0:i]):\n",
    "                c = nums[i:]\n",
    "                c.sort(reverse=True)\n",
    "                return c\n",
    "            "
   ]
  }
 ],
 "metadata": {
  "hide_input": false,
  "kernelspec": {
   "display_name": "Python 3",
   "language": "python",
   "name": "python3"
  },
  "language_info": {
   "codemirror_mode": {
    "name": "ipython",
    "version": 3
   },
   "file_extension": ".py",
   "mimetype": "text/x-python",
   "name": "python",
   "nbconvert_exporter": "python",
   "pygments_lexer": "ipython3",
   "version": "3.7.9"
  }
 },
 "nbformat": 4,
 "nbformat_minor": 4
}
