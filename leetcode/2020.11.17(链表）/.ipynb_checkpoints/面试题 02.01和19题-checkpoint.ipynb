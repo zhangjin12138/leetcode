{
 "cells": [
  {
   "cell_type": "markdown",
   "metadata": {},
   "source": [
    "# 移除重复节点\n",
    "https://leetcode-cn.com/problems/remove-duplicate-node-lcci/"
   ]
  },
  {
   "cell_type": "markdown",
   "metadata": {},
   "source": [
    "编写代码，移除未排序链表中的重复节点。保留最开始出现的节点。\n",
    "\n",
    "示例1:\n",
    "\n",
    " 输入：[1, 2, 3, 3, 2, 1]\n",
    " \n",
    " 输出：[1, 2, 3]\n",
    "\n",
    "示例2:\n",
    "\n",
    " 输入：[1, 1, 1, 1, 2]\n",
    " \n",
    " 输出：[1, 2]\n"
   ]
  },
  {
   "cell_type": "markdown",
   "metadata": {},
   "source": [
    "思路：双层遍历无法通过时间复杂度的要求，可以使用辅助字典来记录已经录入的节点值，如果有了就指针跳过去"
   ]
  },
  {
   "cell_type": "code",
   "execution_count": null,
   "metadata": {},
   "outputs": [],
   "source": [
    "class Solution:\n",
    "    def removeDuplicateNodes(self, head: ListNode) -> ListNode:\n",
    "        dic = {}\n",
    "        if not head:\n",
    "            return\n",
    "        pro = ListNode(0)\n",
    "        pro.next = head\n",
    "        tmp = pro\n",
    "        cur = pro.next\n",
    "        while cur:\n",
    "            if cur.val not in dic:\n",
    "                dic[cur.val] = 1\n",
    "                cur = cur.next\n",
    "                tmp = tmp.next\n",
    "            else:\n",
    "                tmp.next = cur.next\n",
    "                cur.next = None\n",
    "                cur = tmp.next\n",
    "        return pro.next"
   ]
  },
  {
   "cell_type": "markdown",
   "metadata": {},
   "source": [
    "# 删除链表的倒数第N个节点\n",
    "https://leetcode-cn.com/problems/remove-nth-node-from-end-of-list/"
   ]
  },
  {
   "cell_type": "markdown",
   "metadata": {
    "ExecuteTime": {
     "end_time": "2020-11-17T13:52:43.489782Z",
     "start_time": "2020-11-17T13:52:43.483828Z"
    }
   },
   "source": [
    "给定一个链表，删除链表的倒数第 n 个节点，并且返回链表的头结点。\n",
    "\n",
    "示例：\n",
    "\n",
    "给定一个链表: 1->2->3->4->5, 和 n = 2.\n",
    "\n",
    "当删除了倒数第二个节点后，链表变为 1->2->3->5.\n",
    "\n",
    "思路：双指针遍历\n"
   ]
  },
  {
   "cell_type": "code",
   "execution_count": null,
   "metadata": {},
   "outputs": [],
   "source": [
    "class Solution:\n",
    "    def removeNthFromEnd(self, head: ListNode, n: int) -> ListNode:\n",
    "    \n",
    "        dummy = ListNode(0, head)\n",
    "        t = head \n",
    "        k = dummy\n",
    "        for i in range(n):\n",
    "            t = t.next\n",
    "        \n",
    "        while t:\n",
    "            t = t.next\n",
    "            k = k.next\n",
    "        \n",
    "        k.next = k.next.next\n",
    "        return dummy.next"
   ]
  }
 ],
 "metadata": {
  "hide_input": false,
  "kernelspec": {
   "display_name": "Python 3",
   "language": "python",
   "name": "python3"
  },
  "language_info": {
   "codemirror_mode": {
    "name": "ipython",
    "version": 3
   },
   "file_extension": ".py",
   "mimetype": "text/x-python",
   "name": "python",
   "nbconvert_exporter": "python",
   "pygments_lexer": "ipython3",
   "version": "3.7.9"
  }
 },
 "nbformat": 4,
 "nbformat_minor": 4
}
