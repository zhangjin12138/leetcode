{
 "cells": [
  {
   "cell_type": "markdown",
   "metadata": {},
   "source": [
    "# 53. 最大子序和"
   ]
  },
  {
   "cell_type": "code",
   "execution_count": null,
   "metadata": {},
   "outputs": [],
   "source": [
    "class Solution:\n",
    "    def maxSubArray(self, nums: List[int]) -> int:\n",
    "        dp = [0] * len(nums)\n",
    "        dp[0] = nums[0]\n",
    "        for i in range(1, len(nums)):\n",
    "            dp[i] = max(dp[i-1] + nums[i], nums[i])\n",
    "\n",
    "        return max(dp)\n",
    "\n",
    "        '''解析:\n",
    "        重点在：dp[i] = max(dp[i-1] + nums[i], nums[i])\n",
    "        dp[0] = -2\n",
    "        dp[1] = max(-2 + 1, 1) = 1\n",
    "        dp[2] = max(1-3, -3) = -2\n",
    "        dp[3] = max(-2+4, 4) = 4\n",
    "        dp[4] = max(4-1, -1) = 3\n",
    "        dp[5] = max(3+2, 2) = 5\n",
    "        dp[6] = max(5+1, 1) = 6\n",
    "        dp[7] = max(6-5, -5) = 1\n",
    "        dp[8] = max(1+4, 4) = 5\n",
    "\n",
    "        dp保存的是连续子数组之和与当前nums[i]的大小比较，如果nums[i] 大于\n",
    "        之前的连续子数组的和，那么就重新保存最大值。\n",
    "        '''"
   ]
  },
  {
   "cell_type": "markdown",
   "metadata": {},
   "source": [
    "# 70. 爬楼梯\n"
   ]
  },
  {
   "cell_type": "code",
   "execution_count": null,
   "metadata": {},
   "outputs": [],
   "source": [
    "class Solution:\n",
    "    def climbStairs(self, n: int) -> int:\n",
    "        if n<= 2:\n",
    "            return n\n",
    "        dp = [0] * n\n",
    "        dp[0] = 1\n",
    "        dp[1] = 2\n",
    "        for i in range(2, n):\n",
    "            dp[i] = dp[i-2] + dp[i-1]\n",
    "        return dp[i]\n",
    "\n",
    "        '''\n",
    "        思路：\n",
    "        https://leetcode-cn.com/problems/climbing-stairs/solution/wo-shi-yi-zhi-xiao-qing-wa-by-belinda/\n",
    "        '''"
   ]
  },
  {
   "cell_type": "markdown",
   "metadata": {},
   "source": [
    "# 198. 打家劫舍"
   ]
  },
  {
   "cell_type": "code",
   "execution_count": null,
   "metadata": {},
   "outputs": [],
   "source": [
    "class Solution:\n",
    "    def rob(self, nums: List[int]) -> int:\n",
    "        if len(nums)==0:\n",
    "            return 0\n",
    "        elif len(nums) <= 2:\n",
    "            return max(nums)\n",
    "        else:\n",
    "\n",
    "            dp = [0] * len(nums)\n",
    "            dp[0] = nums[0]\n",
    "            dp[1] = max(nums[0], nums[1])\n",
    "\n",
    "            for i in range(2, len(nums)):\n",
    "                dp[i] = max(dp[i-2] + nums[i], dp[i-1])\n",
    "            return max(dp )"
   ]
  },
  {
   "cell_type": "code",
   "execution_count": 1,
   "metadata": {
    "ExecuteTime": {
     "end_time": "2020-11-24T15:57:06.317778Z",
     "start_time": "2020-11-24T15:57:06.312819Z"
    }
   },
   "outputs": [],
   "source": [
    "# 这三个题基本是一个类型的"
   ]
  },
  {
   "cell_type": "code",
   "execution_count": null,
   "metadata": {},
   "outputs": [],
   "source": []
  }
 ],
 "metadata": {
  "hide_input": false,
  "kernelspec": {
   "display_name": "Python 3",
   "language": "python",
   "name": "python3"
  },
  "language_info": {
   "codemirror_mode": {
    "name": "ipython",
    "version": 3
   },
   "file_extension": ".py",
   "mimetype": "text/x-python",
   "name": "python",
   "nbconvert_exporter": "python",
   "pygments_lexer": "ipython3",
   "version": "3.7.9"
  }
 },
 "nbformat": 4,
 "nbformat_minor": 4
}
