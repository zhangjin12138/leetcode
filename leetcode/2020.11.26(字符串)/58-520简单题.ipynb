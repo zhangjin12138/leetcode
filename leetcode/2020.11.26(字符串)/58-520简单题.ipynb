{
 "cells": [
  {
   "cell_type": "markdown",
   "metadata": {},
   "source": [
    "# 58. 最后一个单词的长度\n",
    "给定一个仅包含大小写字母和空格 ' ' 的字符串 s，返回其最后一个单词的长度。如果字符串从左向右滚动显示，那么最后一个单词就是最后出现的单词。<br>\n",
    "<br>\n",
    "如果不存在最后一个单词，请返回 0 。<br>\n",
    "<br>\n",
    "说明：一个单词是指仅由字母组成、不包含任何空格字符的 最大子字符串。<br>\n",
    "<br>\n",
    " <br>\n",
    "<br>\n",
    "示例:<br>\n",
    "<br>\n",
    "输入: \"Hello World\"<br>\n",
    "输出: 5<br>"
   ]
  },
  {
   "cell_type": "code",
   "execution_count": null,
   "metadata": {},
   "outputs": [],
   "source": [
    "class Solution:\n",
    "    def lengthOfLastWord(self, s: str) -> int:\n",
    "        if not s:\n",
    "            return 0\n",
    "\n",
    "        else:\n",
    "            return len(s.strip().split(' ')[-1])"
   ]
  },
  {
   "cell_type": "markdown",
   "metadata": {},
   "source": [
    "# 67. 二进制求和\n",
    "给你两个二进制字符串，返回它们的和（用二进制表示）。<br>\n",
    "<br>\n",
    "输入为 非空 字符串且只包含数字 1 和 0。<br>\n",
    "<br>\n",
    " <br>\n",
    "<br>\n",
    "示例 1:<br>\n",
    "<br>\n",
    "输入: a = \"11\", b = \"1\"<br>\n",
    "输出: \"100\"<br>\n",
    "示例 2:<br>\n",
    "<br>\n",
    "输入: a = \"1010\", b = \"1011\"<br>\n",
    "输出: \"10101\"<br>"
   ]
  },
  {
   "cell_type": "code",
   "execution_count": null,
   "metadata": {},
   "outputs": [],
   "source": [
    "class Solution:\n",
    "    def addBinary(self, a: str, b: str) -> str:\n",
    "        a = '0b' + a \n",
    "        b = '0b' + b\n",
    "\n",
    "        return bin(eval(a) + eval(b))[2:]"
   ]
  },
  {
   "cell_type": "markdown",
   "metadata": {},
   "source": [
    "# 125. 验证回文串\n",
    "给定一个字符串，验证它是否是回文串，只考虑字母和数字字符，可以忽略字母的大小写。<br>\n",
    "<br>\n",
    "说明：本题中，我们将空字符串定义为有效的回文串。<br>\n",
    "<br>\n",
    "示例 1:<br>\n",
    "<br>\n",
    "输入: \"A man, a plan, a canal: Panama\"<br>\n",
    "输出: true<br>\n",
    "示例 2:<br>\n",
    "<br>\n",
    "输入: \"race a car\"<br>\n",
    "输出: false<br>"
   ]
  },
  {
   "cell_type": "code",
   "execution_count": null,
   "metadata": {},
   "outputs": [],
   "source": [
    "class Solution:\n",
    "    def isPalindrome(self, s: str) -> bool:\n",
    "        s = s.lower()\n",
    "        b = ''\n",
    "        for i in s:\n",
    "            if i in 'qwertyuioplkjhgfdsazxcvbnm0123456789':\n",
    "                b += i \n",
    "\n",
    "        if b=='':\n",
    "            return True\n",
    "        i = 0\n",
    "\n",
    "        k = len(b)\n",
    "        for i in range(len(b)//2):\n",
    "            k -= 1 \n",
    "            if b[i] != b[k]:\n",
    "                return False \n",
    "        return True \n",
    "\n"
   ]
  },
  {
   "cell_type": "markdown",
   "metadata": {},
   "source": [
    "# 344. 反转字符串\n",
    "编写一个函数，其作用是将输入的字符串反转过来。输入字符串以字符数组 char[] 的形式给出。<br>\n",
    "<br>\n",
    "不要给另外的数组分配额外的空间，你必须原地修改输入数组、使用 O(1) 的额外空间解决这一问题。<br>\n",
    "<br>\n",
    "你可以假设数组中的所有字符都是 ASCII 码表中的可打印字符。<br>\n",
    "<br>\n",
    " <br>\n",
    "<br>\n",
    "示例 1：<br>\n",
    "<br>\n",
    "输入：[\"h\",\"e\",\"l\",\"l\",\"o\"]<br>\n",
    "输出：[\"o\",\"l\",\"l\",\"e\",\"h\"]<br>\n",
    "示例 2：<br>\n",
    "<br>\n",
    "输入：[\"H\",\"a\",\"n\",\"n\",\"a\",\"h\"]<br>\n",
    "输出：[\"h\",\"a\",\"n\",\"n\",\"a\",\"H\"]<br>"
   ]
  },
  {
   "cell_type": "code",
   "execution_count": null,
   "metadata": {},
   "outputs": [],
   "source": [
    "class Solution:\n",
    "    def reverseString(self, s: List[str]) -> None:\n",
    "        \"\"\"\n",
    "        Do not return anything, modify s in-place instead.\n",
    "        \"\"\"\n",
    "        if not s:\n",
    "            return []\n",
    "        k = len(s)\n",
    "\n",
    "        for i in range(len(s)//2):\n",
    "            k -= 1\n",
    "            s[i], s[k] = s[k], s[i]\n",
    "        return s "
   ]
  },
  {
   "cell_type": "markdown",
   "metadata": {},
   "source": [
    "# 345. 反转字符串中的元音字母\n",
    "编写一个函数，以字符串作为输入，反转该字符串中的元音字母。<br>\n",
    "<br>\n",
    " <br>\n",
    "<br>\n",
    "示例 1：<br>\n",
    "<br>\n",
    "输入：\"hello\"<br>\n",
    "输出：\"holle\"<br>\n",
    "示例 2：<br>\n",
    "<br>\n",
    "输入：\"leetcode\"<br>\n",
    "输出：\"leotcede\"<br>"
   ]
  },
  {
   "cell_type": "code",
   "execution_count": null,
   "metadata": {},
   "outputs": [],
   "source": [
    "class Solution:\n",
    "    def reverseVowels(self, s: str) -> str:\n",
    "        i = 0\n",
    "        k = len(s)-1\n",
    "\n",
    "        if not s:\n",
    "            return ''\n",
    "\n",
    "        s = list(s)\n",
    "\n",
    "        while i < k:\n",
    "            while (s[i] not in 'aeiouAEIOU') and (i < k):\n",
    "                i += 1\n",
    "            while (s[k] not in 'aeiouAEIOU') and (i < k):\n",
    "                k -= 1\n",
    "            \n",
    "            s[i], s[k] = s[k], s[i]\n",
    "            i += 1\n",
    "            k -= 1\n",
    "        return ''.join(s)"
   ]
  },
  {
   "cell_type": "markdown",
   "metadata": {},
   "source": [
    "# 383. 赎金信\n",
    "给定一个赎金信 (ransom) 字符串和一个杂志(magazine)字符串，判断第一个字符串 ransom 能不能由第二个字符串 magazines 里面的字符构成。如果可以构成，返回 true ；否则返回 false。<br>\n",
    "<br>\n",
    "(题目说明：为了不暴露赎金信字迹，要从杂志上搜索各个需要的字母，组成单词来表达意思。杂志字符串中的每个字符只能在赎金信字符串中使用一次。)<br>\n",
    "<br>\n",
    " <br>\n",
    "<br>\n",
    "注意：<br>\n",
    "<br>\n",
    "你可以假设两个字符串均只含有小写字母。<br>\n",
    "<br>\n",
    "canConstruct(\"a\", \"b\") -> false<br>\n",
    "canConstruct(\"aa\", \"ab\") -> false<br>\n",
    "canConstruct(\"aa\", \"aab\") -> true<br>"
   ]
  },
  {
   "cell_type": "code",
   "execution_count": null,
   "metadata": {},
   "outputs": [],
   "source": [
    "class Solution:\n",
    "    def canConstruct(self, ransomNote: str, magazine: str) -> bool:\n",
    "        s = list(magazine)\n",
    "        for i in ransomNote:\n",
    "            if i not in s:\n",
    "                return False\n",
    "            else:\n",
    "                s.remove(i)\n",
    "\n",
    "        return True "
   ]
  },
  {
   "cell_type": "markdown",
   "metadata": {},
   "source": [
    "# 387. 字符串中的第一个唯一字符\n",
    "给定一个字符串，找到它的第一个不重复的字符，并返回它的索引。如果不存在，则返回 -1。<br>\n",
    "<br>\n",
    " <br>\n",
    "<br>\n",
    "示例：<br>\n",
    "<br>\n",
    "s = \"leetcode\"<br>\n",
    "返回 0<br>\n",
    "<br>\n",
    "s = \"loveleetcode\"<br>\n",
    "返回 2<br>"
   ]
  },
  {
   "cell_type": "code",
   "execution_count": null,
   "metadata": {},
   "outputs": [],
   "source": [
    "class Solution:\n",
    "    def firstUniqChar(self, s: str) -> int:\n",
    "        dicts = {}\n",
    "        for i in s:\n",
    "            if i not in dicts:\n",
    "                dicts[i] = 1\n",
    "            else:\n",
    "                dicts[i] += 1\n",
    "        print(dicts)\n",
    "        for k, v in dicts.items():\n",
    "            if v == 1:\n",
    "                return s.index(k)\n",
    "        return -1"
   ]
  },
  {
   "cell_type": "markdown",
   "metadata": {
    "ExecuteTime": {
     "end_time": "2020-11-26T03:08:49.190290Z",
     "start_time": "2020-11-26T03:08:49.185046Z"
    }
   },
   "source": [
    "# 415. 字符串相加\n",
    "给定两个字符串形式的非负整数 num1 和num2 ，计算它们的和。<br>\n",
    "<br>\n",
    " <br>\n",
    "<br>\n",
    "提示：<br>\n",
    "<br>\n",
    "num1 和num2 的长度都小于 5100<br>\n",
    "num1 和num2 都只包含数字 0-9<br>\n",
    "num1 和num2 都不包含任何前导零<br>\n",
    "你不能使用任何內建 BigInteger 库， 也不能直接将输入的字符串转换为整数形式<br>"
   ]
  },
  {
   "cell_type": "code",
   "execution_count": 4,
   "metadata": {
    "ExecuteTime": {
     "end_time": "2020-11-26T03:09:34.852448Z",
     "start_time": "2020-11-26T03:09:34.845478Z"
    }
   },
   "outputs": [],
   "source": [
    "class Solution:\n",
    "    def addStrings(self, num1: str, num2: str) -> str:\n",
    "        res = \"\"\n",
    "        i, j, carry = len(num1) - 1, len(num2) - 1, 0\n",
    "        while i >= 0 or j >= 0:\n",
    "            n1 = int(num1[i]) if i >= 0 else 0\n",
    "            n2 = int(num2[j]) if j >= 0 else 0\n",
    "            tmp = n1 + n2 + carry\n",
    "            carry = tmp // 10\n",
    "            res = str(tmp % 10) + res\n",
    "            i, j = i - 1, j - 1\n",
    "        return \"1\" + res if carry else res\n",
    "\n"
   ]
  },
  {
   "cell_type": "markdown",
   "metadata": {},
   "source": [
    "# 434. 字符串中的单词数\n",
    "统计字符串中的单词个数，这里的单词指的是连续的不是空格的字符。<br>\n",
    "<br>\n",
    "请注意，你可以假定字符串里不包括任何不可打印的字符。<br>\n",
    "<br>\n",
    "示例:<br>\n",
    "<br>\n",
    "输入: \"Hello, my name is John\"<br>\n",
    "输出: 5<br>\n",
    "解释: 这里的单词是指连续的不是空格的字符，所以 \"Hello,\" 算作 1 个单词。<br>"
   ]
  },
  {
   "cell_type": "code",
   "execution_count": 3,
   "metadata": {
    "ExecuteTime": {
     "end_time": "2020-11-26T03:09:30.770196Z",
     "start_time": "2020-11-26T03:09:30.765358Z"
    }
   },
   "outputs": [],
   "source": [
    "class Solution:\n",
    "    def countSegments(self, s: str) -> int:\n",
    "        return len(s.split())"
   ]
  },
  {
   "cell_type": "markdown",
   "metadata": {},
   "source": [
    "# 459. 重复的子字符串\n",
    "给定一个非空的字符串，判断它是否可以由它的一个子串重复多次构成。给定的字符串只含有小写英文字母，并且长度不超过10000。<br>\n",
    "<br>\n",
    "示例 1:<br>\n",
    "<br>\n",
    "输入: \"abab\"<br>\n",
    "<br>\n",
    "输出: True<br>\n",
    "<br>\n",
    "解释: 可由子字符串 \"ab\" 重复两次构成。<br>\n",
    "示例 2:<br>\n",
    "<br>\n",
    "输入: \"aba\"<br>\n",
    "<br>\n",
    "输出: False<br>\n",
    "示例 3:<br>\n",
    "<br>\n",
    "输入: \"abcabcabcabc\"<br>\n",
    "<br>\n",
    "输出: True<br>\n",
    "<br>\n",
    "解释: 可由子字符串 \"abc\" 重复四次构成。 (或者子字符串 \"abcabc\" 重复两次构成。)<br>"
   ]
  },
  {
   "cell_type": "code",
   "execution_count": 5,
   "metadata": {
    "ExecuteTime": {
     "end_time": "2020-11-26T03:11:55.989309Z",
     "start_time": "2020-11-26T03:11:55.983324Z"
    }
   },
   "outputs": [],
   "source": [
    "class Solution:\n",
    "    def repeatedSubstringPattern(self, s: str) -> bool:\n",
    "        return (s + s).find(s, 1) != len(s)"
   ]
  },
  {
   "cell_type": "markdown",
   "metadata": {},
   "source": [
    "# 520. 检测大写字母\n",
    "给定一个单词，你需要判断单词的大写使用是否正确。<br>\n",
    "<br>\n",
    "我们定义，在以下情况时，单词的大写用法是正确的：<br>\n",
    "<br>\n",
    "全部字母都是大写，比如\"USA\"。<br>\n",
    "单词中所有字母都不是大写，比如\"leetcode\"。<br>\n",
    "如果单词不只含有一个字母，只有首字母大写， 比如 \"Google\"。<br>\n",
    "否则，我们定义这个单词没有正确使用大写字母。<br>\n",
    "<br>\n",
    "示例 1:<br>\n",
    "<br>\n",
    "输入: \"USA\"<br>\n",
    "输出: True<br>\n",
    "示例 2:<br>\n",
    "<br>\n",
    "输入: \"FlaG\"<br>\n",
    "输出: False<br>"
   ]
  },
  {
   "cell_type": "code",
   "execution_count": 6,
   "metadata": {
    "ExecuteTime": {
     "end_time": "2020-11-26T03:12:35.222764Z",
     "start_time": "2020-11-26T03:12:35.215021Z"
    }
   },
   "outputs": [],
   "source": [
    "class Solution:\n",
    "    def detectCapitalUse(self, word: str) -> bool:\n",
    "        big = 'QWERTYUIOPLKJHGFDSAZXCVBNM'\n",
    "        SMALL = 'qwertyuioplkjhgfdsazxcvbnm'\n",
    "\n",
    "        if len(word) == 1:\n",
    "            return True\n",
    "        elif len(word) == 2:\n",
    "            if word[0] in SMALL and word[1] in big:\n",
    "                return False\n",
    "            else:\n",
    "                return True \n",
    "        else:\n",
    "            if word[0] in SMALL:\n",
    "                for i in word:\n",
    "                    if i in big:\n",
    "                        return False\n",
    "            elif word[0] in big:\n",
    "                if word[1] in big:\n",
    "                    for i in word[2:]:\n",
    "                        if i in SMALL:\n",
    "                            return False \n",
    "                else:\n",
    "                    for i in word[1:]:\n",
    "                        if i in big:\n",
    "                            return False \n",
    "        return True"
   ]
  },
  {
   "cell_type": "code",
   "execution_count": null,
   "metadata": {},
   "outputs": [],
   "source": []
  }
 ],
 "metadata": {
  "hide_input": false,
  "kernelspec": {
   "display_name": "Python 3",
   "language": "python",
   "name": "python3"
  },
  "language_info": {
   "codemirror_mode": {
    "name": "ipython",
    "version": 3
   },
   "file_extension": ".py",
   "mimetype": "text/x-python",
   "name": "python",
   "nbconvert_exporter": "python",
   "pygments_lexer": "ipython3",
   "version": "3.7.9"
  }
 },
 "nbformat": 4,
 "nbformat_minor": 4
}
