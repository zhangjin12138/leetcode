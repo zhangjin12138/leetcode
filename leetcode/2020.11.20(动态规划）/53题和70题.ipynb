{
 "cells": [
  {
   "cell_type": "markdown",
   "metadata": {
    "ExecuteTime": {
     "end_time": "2020-11-20T15:53:35.252190Z",
     "start_time": "2020-11-20T15:53:35.248212Z"
    }
   },
   "source": [
    "# 53. 最大子序和"
   ]
  },
  {
   "cell_type": "markdown",
   "metadata": {},
   "source": [
    "给定一个整数数组 nums ，找到一个具有最大和的连续子数组（子数组最少包含一个元素），返回其最大和。\n",
    "\n",
    "示例:<br><br>\n",
    "\n",
    "输入: [-2,1,-3,4,-1,2,1,-5,4]<br>\n",
    "输出: 6<br>\n",
    "解释: 连续子数组 [4,-1,2,1] 的和最大，为 6。<br><br>\n",
    "\n",
    "来源：力扣（LeetCode）<br>\n",
    "链接：https://leetcode-cn.com/problems/maximum-subarray<br>\n",
    "著作权归领扣网络所有。商业转载请联系官方授权，非商业转载请注明出处。<br>\n",
    "思路：采用动态规划的思想，存储最大值，然后每次移位后和现有最大值比较，如果更大就进行更新\n"
   ]
  },
  {
   "cell_type": "code",
   "execution_count": null,
   "metadata": {},
   "outputs": [],
   "source": [
    "class Solution:\n",
    "    def maxSubArray(self, nums: List[int]) -> int:\n",
    "        partial = overall = nums[0]     #初始化最大值和当前最大值\n",
    "        for i in range(1,len(nums)):\n",
    "            partial = max(nums[i], partial+nums[i])    #判断是否继续添加\n",
    "            overall = max(overall, partial)            #动态更新最大值\n",
    "        return overall"
   ]
  },
  {
   "cell_type": "markdown",
   "metadata": {},
   "source": [
    "# 70. 爬楼梯\n"
   ]
  },
  {
   "cell_type": "markdown",
   "metadata": {},
   "source": [
    "假设你正在爬楼梯。需要 n 阶你才能到达楼顶。<br>\n",
    "\n",
    "每次你可以爬 1 或 2 个台阶。你有多少种不同的方法可以爬到楼顶呢？<br><br>\n",
    "\n",
    "注意：给定 n 是一个正整数。<br><br>\n",
    "\n",
    "示例 1：<br><br>\n",
    "\n",
    "输入： 2<br>\n",
    "输出： 2<br>\n",
    "解释： 有两种方法可以爬到楼顶。<br>\n",
    "1.  1 阶 + 1 阶<br>\n",
    "2.  2 阶<br>\n",
    "示例 2：<br><br>\n",
    "\n",
    "输入： 3<br>\n",
    "输出： 3<br>\n",
    "解释： 有三种方法可以爬到楼顶。<br>\n",
    "1.  1 阶 + 1 阶 + 1 阶<br>\n",
    "2.  1 阶 + 2 阶<br>\n",
    "3.  2 阶 + 1 阶<br><br>\n",
    "\n",
    "来源：力扣（LeetCode）<br>\n",
    "链接：https://leetcode-cn.com/problems/climbing-stairs<br>\n",
    "著作权归领扣网络所有。商业转载请联系官方授权，非商业转载请注明出处。<br>\n",
    "思路：最后一层有两种方式 2 1 和 1 2 运用递归的思路来破解， 倒数第三层是倒数第四层的最后一层"
   ]
  },
  {
   "cell_type": "code",
   "execution_count": null,
   "metadata": {},
   "outputs": [],
   "source": [
    "\n",
    "class Solution:\n",
    "    def climbStairs(self, n: int) -> int:\n",
    "        fir = 1\n",
    "        sed = 2\n",
    "\n",
    "        res = 0\n",
    "        for i in range(2, n):\n",
    "            res = fir + sed\n",
    "            fir = sed \n",
    "            sed = res \n",
    "        return max(n, res)"
   ]
  }
 ],
 "metadata": {
  "hide_input": false,
  "kernelspec": {
   "display_name": "Python 3",
   "language": "python",
   "name": "python3"
  },
  "language_info": {
   "codemirror_mode": {
    "name": "ipython",
    "version": 3
   },
   "file_extension": ".py",
   "mimetype": "text/x-python",
   "name": "python",
   "nbconvert_exporter": "python",
   "pygments_lexer": "ipython3",
   "version": "3.7.9"
  }
 },
 "nbformat": 4,
 "nbformat_minor": 4
}
